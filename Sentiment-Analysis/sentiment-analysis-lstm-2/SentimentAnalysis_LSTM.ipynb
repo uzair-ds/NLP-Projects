{
 "cells": [
  {
   "cell_type": "code",
   "execution_count": 2,
   "id": "bronze-walnut",
   "metadata": {
    "_cell_guid": "b1076dfc-b9ad-4769-8c92-a6c4dae69d19",
    "_uuid": "8f2839f25d086af736a60e9eeb907d3b93b6e0e5",
    "execution": {
     "iopub.execute_input": "2021-05-11T11:06:59.907440Z",
     "iopub.status.busy": "2021-05-11T11:06:59.906767Z",
     "iopub.status.idle": "2021-05-11T11:06:59.918214Z",
     "shell.execute_reply": "2021-05-11T11:06:59.918882Z"
    },
    "papermill": {
     "duration": 0.055695,
     "end_time": "2021-05-11T11:06:59.919197",
     "exception": false,
     "start_time": "2021-05-11T11:06:59.863502",
     "status": "completed"
    },
    "tags": []
   },
   "outputs": [],
   "source": [
    "import numpy as np\n",
    "import pandas as pd"
   ]
  },
  {
   "cell_type": "markdown",
   "id": "urban-education",
   "metadata": {
    "papermill": {
     "duration": 0.030014,
     "end_time": "2021-05-11T11:06:59.981348",
     "exception": false,
     "start_time": "2021-05-11T11:06:59.951334",
     "status": "completed"
    },
    "tags": []
   },
   "source": [
    "# Load in and visualize the data"
   ]
  },
  {
   "cell_type": "code",
   "execution_count": 3,
   "id": "d28cee93",
   "metadata": {},
   "outputs": [
    {
     "data": {
      "text/plain": [
       "(50000, 2)"
      ]
     },
     "execution_count": 3,
     "metadata": {},
     "output_type": "execute_result"
    }
   ],
   "source": [
    "df = pd.read_csv(\"IMDB Dataset.csv\")\n",
    "df.head()\n",
    "df.shape"
   ]
  },
  {
   "cell_type": "markdown",
   "id": "nutritional-livestock",
   "metadata": {
    "papermill": {
     "duration": 0.03179,
     "end_time": "2021-05-11T11:07:01.385244",
     "exception": false,
     "start_time": "2021-05-11T11:07:01.353454",
     "status": "completed"
    },
    "tags": []
   },
   "source": [
    "# Data Processing — convert to lower case"
   ]
  },
  {
   "cell_type": "code",
   "execution_count": 4,
   "id": "honey-router",
   "metadata": {
    "execution": {
     "iopub.execute_input": "2021-05-11T11:07:01.471020Z",
     "iopub.status.busy": "2021-05-11T11:07:01.466108Z",
     "iopub.status.idle": "2021-05-11T11:07:01.588018Z",
     "shell.execute_reply": "2021-05-11T11:07:01.587462Z"
    },
    "papermill": {
     "duration": 0.171368,
     "end_time": "2021-05-11T11:07:01.588147",
     "exception": false,
     "start_time": "2021-05-11T11:07:01.416779",
     "status": "completed"
    },
    "tags": []
   },
   "outputs": [],
   "source": [
    "df['review'] = df['review'].apply(lambda x:x.lower())"
   ]
  },
  {
   "cell_type": "code",
   "execution_count": 5,
   "id": "blocked-syria",
   "metadata": {
    "execution": {
     "iopub.execute_input": "2021-05-11T11:07:01.658246Z",
     "iopub.status.busy": "2021-05-11T11:07:01.657446Z",
     "iopub.status.idle": "2021-05-11T11:07:01.660850Z",
     "shell.execute_reply": "2021-05-11T11:07:01.661254Z"
    },
    "papermill": {
     "duration": 0.040715,
     "end_time": "2021-05-11T11:07:01.661387",
     "exception": false,
     "start_time": "2021-05-11T11:07:01.620672",
     "status": "completed"
    },
    "tags": []
   },
   "outputs": [
    {
     "data": {
      "text/plain": [
       "\"one of the other reviewers has mentioned that after watching just 1 oz episode you'll be hooked. they are right, as this is exactly what happened with me.<br /><br />the first thing that struck me about oz was its brutality and unflinching scenes of violence, which set in right from the word go. trust me, this is not a show for the faint hearted or timid. this show pulls no punches with regards to drugs, sex or violence. its is hardcore, in the classic use of the word.<br /><br />it is called oz as that is the nickname given to the oswald maximum security state penitentary. it focuses mainly on emerald city, an experimental section of the prison where all the cells have glass fronts and face inwards, so privacy is not high on the agenda. em city is home to many..aryans, muslims, gangstas, latinos, christians, italians, irish and more....so scuffles, death stares, dodgy dealings and shady agreements are never far away.<br /><br />i would say the main appeal of the show is due to the fact that it goes where other shows wouldn't dare. forget pretty pictures painted for mainstream audiences, forget charm, forget romance...oz doesn't mess around. the first episode i ever saw struck me as so nasty it was surreal, i couldn't say i was ready for it, but as i watched more, i developed a taste for oz, and got accustomed to the high levels of graphic violence. not just violence, but injustice (crooked guards who'll be sold out for a nickel, inmates who'll kill on order and get away with it, well mannered, middle class inmates being turned into prison bitches due to their lack of street skills or prison experience) watching oz, you may become comfortable with what is uncomfortable viewing....thats if you can get in touch with your darker side.\""
      ]
     },
     "execution_count": 5,
     "metadata": {},
     "output_type": "execute_result"
    }
   ],
   "source": [
    "df['review'][0]"
   ]
  },
  {
   "cell_type": "markdown",
   "id": "sealed-supply",
   "metadata": {
    "papermill": {
     "duration": 0.03103,
     "end_time": "2021-05-11T11:07:01.723952",
     "exception": false,
     "start_time": "2021-05-11T11:07:01.692922",
     "status": "completed"
    },
    "tags": []
   },
   "source": [
    "# Data Processing — remove punctuation"
   ]
  },
  {
   "cell_type": "code",
   "execution_count": 6,
   "id": "impressive-flash",
   "metadata": {
    "execution": {
     "iopub.execute_input": "2021-05-11T11:07:01.791025Z",
     "iopub.status.busy": "2021-05-11T11:07:01.790493Z",
     "iopub.status.idle": "2021-05-11T11:07:01.794663Z",
     "shell.execute_reply": "2021-05-11T11:07:01.794206Z"
    },
    "papermill": {
     "duration": 0.039655,
     "end_time": "2021-05-11T11:07:01.794775",
     "exception": false,
     "start_time": "2021-05-11T11:07:01.755120",
     "status": "completed"
    },
    "tags": []
   },
   "outputs": [
    {
     "name": "stdout",
     "output_type": "stream",
     "text": [
      "!\"#$%&'()*+,-./:;<=>?@[\\]^_`{|}~\n"
     ]
    }
   ],
   "source": [
    "from string import punctuation\n",
    "print(punctuation)"
   ]
  },
  {
   "cell_type": "code",
   "execution_count": 7,
   "id": "relative-hudson",
   "metadata": {
    "execution": {
     "iopub.execute_input": "2021-05-11T11:07:01.879370Z",
     "iopub.status.busy": "2021-05-11T11:07:01.863837Z",
     "iopub.status.idle": "2021-05-11T11:07:08.473402Z",
     "shell.execute_reply": "2021-05-11T11:07:08.472931Z"
    },
    "papermill": {
     "duration": 6.647047,
     "end_time": "2021-05-11T11:07:08.473540",
     "exception": false,
     "start_time": "2021-05-11T11:07:01.826493",
     "status": "completed"
    },
    "tags": []
   },
   "outputs": [],
   "source": [
    "df['clean_text'] = df['review'].apply(lambda x:''.join([c for c in x if c not in punctuation]))"
   ]
  },
  {
   "cell_type": "code",
   "execution_count": 8,
   "id": "basic-spring",
   "metadata": {
    "execution": {
     "iopub.execute_input": "2021-05-11T11:07:08.541943Z",
     "iopub.status.busy": "2021-05-11T11:07:08.541241Z",
     "iopub.status.idle": "2021-05-11T11:07:08.544696Z",
     "shell.execute_reply": "2021-05-11T11:07:08.544302Z"
    },
    "papermill": {
     "duration": 0.039198,
     "end_time": "2021-05-11T11:07:08.544804",
     "exception": false,
     "start_time": "2021-05-11T11:07:08.505606",
     "status": "completed"
    },
    "tags": []
   },
   "outputs": [
    {
     "data": {
      "text/plain": [
       "'one of the other reviewers has mentioned that after watching just 1 oz episode youll be hooked they are right as this is exactly what happened with mebr br the first thing that struck me about oz was its brutality and unflinching scenes of violence which set in right from the word go trust me this is not a show for the faint hearted or timid this show pulls no punches with regards to drugs sex or violence its is hardcore in the classic use of the wordbr br it is called oz as that is the nickname given to the oswald maximum security state penitentary it focuses mainly on emerald city an experimental section of the prison where all the cells have glass fronts and face inwards so privacy is not high on the agenda em city is home to manyaryans muslims gangstas latinos christians italians irish and moreso scuffles death stares dodgy dealings and shady agreements are never far awaybr br i would say the main appeal of the show is due to the fact that it goes where other shows wouldnt dare forget pretty pictures painted for mainstream audiences forget charm forget romanceoz doesnt mess around the first episode i ever saw struck me as so nasty it was surreal i couldnt say i was ready for it but as i watched more i developed a taste for oz and got accustomed to the high levels of graphic violence not just violence but injustice crooked guards wholl be sold out for a nickel inmates wholl kill on order and get away with it well mannered middle class inmates being turned into prison bitches due to their lack of street skills or prison experience watching oz you may become comfortable with what is uncomfortable viewingthats if you can get in touch with your darker side'"
      ]
     },
     "execution_count": 8,
     "metadata": {},
     "output_type": "execute_result"
    }
   ],
   "source": [
    "df['clean_text'][0]"
   ]
  },
  {
   "cell_type": "code",
   "execution_count": 9,
   "id": "strategic-cable",
   "metadata": {
    "execution": {
     "iopub.execute_input": "2021-05-11T11:07:08.623982Z",
     "iopub.status.busy": "2021-05-11T11:07:08.613735Z",
     "iopub.status.idle": "2021-05-11T11:07:08.652700Z",
     "shell.execute_reply": "2021-05-11T11:07:08.652284Z"
    },
    "papermill": {
     "duration": 0.076263,
     "end_time": "2021-05-11T11:07:08.652819",
     "exception": false,
     "start_time": "2021-05-11T11:07:08.576556",
     "status": "completed"
    },
    "tags": []
   },
   "outputs": [],
   "source": [
    "df['len_review'] = df['clean_text'].apply(lambda x:len(x))"
   ]
  },
  {
   "cell_type": "code",
   "execution_count": 10,
   "id": "documented-longer",
   "metadata": {
    "execution": {
     "iopub.execute_input": "2021-05-11T11:07:08.727805Z",
     "iopub.status.busy": "2021-05-11T11:07:08.727048Z",
     "iopub.status.idle": "2021-05-11T11:07:08.730458Z",
     "shell.execute_reply": "2021-05-11T11:07:08.730842Z"
    },
    "papermill": {
     "duration": 0.045916,
     "end_time": "2021-05-11T11:07:08.730973",
     "exception": false,
     "start_time": "2021-05-11T11:07:08.685057",
     "status": "completed"
    },
    "tags": []
   },
   "outputs": [
    {
     "data": {
      "text/html": [
       "<div>\n",
       "<style scoped>\n",
       "    .dataframe tbody tr th:only-of-type {\n",
       "        vertical-align: middle;\n",
       "    }\n",
       "\n",
       "    .dataframe tbody tr th {\n",
       "        vertical-align: top;\n",
       "    }\n",
       "\n",
       "    .dataframe thead th {\n",
       "        text-align: right;\n",
       "    }\n",
       "</style>\n",
       "<table border=\"1\" class=\"dataframe\">\n",
       "  <thead>\n",
       "    <tr style=\"text-align: right;\">\n",
       "      <th></th>\n",
       "      <th>review</th>\n",
       "      <th>sentiment</th>\n",
       "      <th>clean_text</th>\n",
       "      <th>len_review</th>\n",
       "    </tr>\n",
       "  </thead>\n",
       "  <tbody>\n",
       "    <tr>\n",
       "      <th>0</th>\n",
       "      <td>one of the other reviewers has mentioned that ...</td>\n",
       "      <td>positive</td>\n",
       "      <td>one of the other reviewers has mentioned that ...</td>\n",
       "      <td>1683</td>\n",
       "    </tr>\n",
       "    <tr>\n",
       "      <th>1</th>\n",
       "      <td>a wonderful little production. &lt;br /&gt;&lt;br /&gt;the...</td>\n",
       "      <td>positive</td>\n",
       "      <td>a wonderful little production br br the filmin...</td>\n",
       "      <td>954</td>\n",
       "    </tr>\n",
       "    <tr>\n",
       "      <th>2</th>\n",
       "      <td>i thought this was a wonderful way to spend ti...</td>\n",
       "      <td>positive</td>\n",
       "      <td>i thought this was a wonderful way to spend ti...</td>\n",
       "      <td>886</td>\n",
       "    </tr>\n",
       "    <tr>\n",
       "      <th>3</th>\n",
       "      <td>basically there's a family where a little boy ...</td>\n",
       "      <td>negative</td>\n",
       "      <td>basically theres a family where a little boy j...</td>\n",
       "      <td>706</td>\n",
       "    </tr>\n",
       "    <tr>\n",
       "      <th>4</th>\n",
       "      <td>petter mattei's \"love in the time of money\" is...</td>\n",
       "      <td>positive</td>\n",
       "      <td>petter matteis love in the time of money is a ...</td>\n",
       "      <td>1261</td>\n",
       "    </tr>\n",
       "  </tbody>\n",
       "</table>\n",
       "</div>"
      ],
      "text/plain": [
       "                                              review sentiment  \\\n",
       "0  one of the other reviewers has mentioned that ...  positive   \n",
       "1  a wonderful little production. <br /><br />the...  positive   \n",
       "2  i thought this was a wonderful way to spend ti...  positive   \n",
       "3  basically there's a family where a little boy ...  negative   \n",
       "4  petter mattei's \"love in the time of money\" is...  positive   \n",
       "\n",
       "                                          clean_text  len_review  \n",
       "0  one of the other reviewers has mentioned that ...        1683  \n",
       "1  a wonderful little production br br the filmin...         954  \n",
       "2  i thought this was a wonderful way to spend ti...         886  \n",
       "3  basically theres a family where a little boy j...         706  \n",
       "4  petter matteis love in the time of money is a ...        1261  "
      ]
     },
     "execution_count": 10,
     "metadata": {},
     "output_type": "execute_result"
    }
   ],
   "source": [
    "df.head()"
   ]
  },
  {
   "cell_type": "markdown",
   "id": "rational-raising",
   "metadata": {
    "papermill": {
     "duration": 0.032433,
     "end_time": "2021-05-11T11:07:08.795998",
     "exception": false,
     "start_time": "2021-05-11T11:07:08.763565",
     "status": "completed"
    },
    "tags": []
   },
   "source": [
    "#  Data Processing — create list of reviews"
   ]
  },
  {
   "cell_type": "code",
   "execution_count": 11,
   "id": "buried-customs",
   "metadata": {
    "execution": {
     "iopub.execute_input": "2021-05-11T11:07:08.868162Z",
     "iopub.status.busy": "2021-05-11T11:07:08.866737Z",
     "iopub.status.idle": "2021-05-11T11:07:08.869217Z",
     "shell.execute_reply": "2021-05-11T11:07:08.869624Z"
    },
    "papermill": {
     "duration": 0.040968,
     "end_time": "2021-05-11T11:07:08.869754",
     "exception": false,
     "start_time": "2021-05-11T11:07:08.828786",
     "status": "completed"
    },
    "tags": []
   },
   "outputs": [],
   "source": [
    "all_text2 = df['clean_text'].tolist()"
   ]
  },
  {
   "cell_type": "markdown",
   "id": "minute-comedy",
   "metadata": {
    "papermill": {
     "duration": 0.032748,
     "end_time": "2021-05-11T11:07:08.935035",
     "exception": false,
     "start_time": "2021-05-11T11:07:08.902287",
     "status": "completed"
    },
    "tags": []
   },
   "source": [
    "### Tokenize — Create Vocab to Int mapping dictionary"
   ]
  },
  {
   "cell_type": "code",
   "execution_count": 12,
   "id": "lyric-continuity",
   "metadata": {
    "execution": {
     "iopub.execute_input": "2021-05-11T11:07:09.991686Z",
     "iopub.status.busy": "2021-05-11T11:07:09.990318Z",
     "iopub.status.idle": "2021-05-11T11:07:09.992738Z",
     "shell.execute_reply": "2021-05-11T11:07:09.993159Z"
    },
    "papermill": {
     "duration": 1.025541,
     "end_time": "2021-05-11T11:07:09.993308",
     "exception": false,
     "start_time": "2021-05-11T11:07:08.967767",
     "status": "completed"
    },
    "tags": []
   },
   "outputs": [],
   "source": [
    "from collections import Counter\n",
    "all_text2 = ' '.join(all_text2)\n",
    "# create a list of words\n",
    "words = all_text2.split()"
   ]
  },
  {
   "cell_type": "code",
   "execution_count": 13,
   "id": "small-joshua",
   "metadata": {
    "execution": {
     "iopub.execute_input": "2021-05-11T11:07:12.160358Z",
     "iopub.status.busy": "2021-05-11T11:07:12.159764Z",
     "iopub.status.idle": "2021-05-11T11:07:12.164176Z",
     "shell.execute_reply": "2021-05-11T11:07:12.163745Z"
    },
    "papermill": {
     "duration": 2.137441,
     "end_time": "2021-05-11T11:07:12.164302",
     "exception": false,
     "start_time": "2021-05-11T11:07:10.026861",
     "status": "completed"
    },
    "tags": []
   },
   "outputs": [],
   "source": [
    "# Count all the words using Counter Method\n",
    "count_words = Counter(words)\n",
    "\n",
    "total_words = len(words)\n",
    "sorted_words = count_words.most_common(total_words)"
   ]
  },
  {
   "cell_type": "code",
   "execution_count": 14,
   "id": "7f5c822c",
   "metadata": {},
   "outputs": [
    {
     "data": {
      "text/plain": [
       "11512912"
      ]
     },
     "execution_count": 14,
     "metadata": {},
     "output_type": "execute_result"
    }
   ],
   "source": [
    "total_words"
   ]
  },
  {
   "cell_type": "code",
   "execution_count": 15,
   "id": "maritime-commodity",
   "metadata": {
    "execution": {
     "iopub.execute_input": "2021-05-11T11:07:12.282246Z",
     "iopub.status.busy": "2021-05-11T11:07:12.272110Z",
     "iopub.status.idle": "2021-05-11T11:07:12.319038Z",
     "shell.execute_reply": "2021-05-11T11:07:12.318592Z"
    },
    "papermill": {
     "duration": 0.121729,
     "end_time": "2021-05-11T11:07:12.319179",
     "exception": false,
     "start_time": "2021-05-11T11:07:12.197450",
     "status": "completed"
    },
    "tags": []
   },
   "outputs": [],
   "source": [
    "vocab_to_int = {w:i for i, (w,c) in enumerate(sorted_words)}"
   ]
  },
  {
   "cell_type": "code",
   "execution_count": 16,
   "id": "graphic-botswana",
   "metadata": {
    "execution": {
     "iopub.execute_input": "2021-05-11T11:07:12.428811Z",
     "iopub.status.busy": "2021-05-11T11:07:12.423717Z",
     "iopub.status.idle": "2021-05-11T11:07:12.492254Z",
     "shell.execute_reply": "2021-05-11T11:07:12.491787Z"
    },
    "papermill": {
     "duration": 0.1402,
     "end_time": "2021-05-11T11:07:12.492387",
     "exception": false,
     "start_time": "2021-05-11T11:07:12.352187",
     "status": "completed"
    },
    "tags": []
   },
   "outputs": [],
   "source": [
    "vocab_to_int = {w:i+1 for i, (w,c) in enumerate(sorted_words)}"
   ]
  },
  {
   "cell_type": "code",
   "execution_count": 17,
   "id": "fuzzy-albuquerque",
   "metadata": {
    "execution": {
     "iopub.execute_input": "2021-05-11T11:07:12.565460Z",
     "iopub.status.busy": "2021-05-11T11:07:12.564726Z",
     "iopub.status.idle": "2021-05-11T11:07:12.567643Z",
     "shell.execute_reply": "2021-05-11T11:07:12.567047Z"
    },
    "papermill": {
     "duration": 0.041571,
     "end_time": "2021-05-11T11:07:12.567763",
     "exception": false,
     "start_time": "2021-05-11T11:07:12.526192",
     "status": "completed"
    },
    "tags": []
   },
   "outputs": [],
   "source": [
    "reviews_split = df['clean_text'].tolist()"
   ]
  },
  {
   "cell_type": "markdown",
   "id": "prerequisite-champagne",
   "metadata": {
    "papermill": {
     "duration": 0.033488,
     "end_time": "2021-05-11T11:07:12.634567",
     "exception": false,
     "start_time": "2021-05-11T11:07:12.601079",
     "status": "completed"
    },
    "tags": []
   },
   "source": [
    "##  Tokenize — Encode the words"
   ]
  },
  {
   "cell_type": "code",
   "execution_count": 18,
   "id": "ordered-trainer",
   "metadata": {
    "execution": {
     "iopub.execute_input": "2021-05-11T11:07:12.750636Z",
     "iopub.status.busy": "2021-05-11T11:07:12.745693Z",
     "iopub.status.idle": "2021-05-11T11:07:15.841943Z",
     "shell.execute_reply": "2021-05-11T11:07:15.842444Z"
    },
    "papermill": {
     "duration": 3.17467,
     "end_time": "2021-05-11T11:07:15.842606",
     "exception": false,
     "start_time": "2021-05-11T11:07:12.667936",
     "status": "completed"
    },
    "tags": []
   },
   "outputs": [
    {
     "name": "stdout",
     "output_type": "stream",
     "text": [
      "[[28, 4, 1, 77, 1941, 44, 1063, 11, 100, 145, 40, 479, 3324, 393, 461, 26, 3190, 34, 23, 205, 14, 10, 6, 601, 48, 590, 15, 2137, 12, 1, 87, 146, 11, 3255, 69, 42, 3324, 13, 29, 5600, 2, 15378, 134, 4, 582, 61, 282, 7, 205, 35, 1, 670, 138, 1707, 69, 10, 6, 21, 3, 118, 16, 1, 8330, 5794, 39, 11861, 10, 118, 2508, 55, 6064, 15, 5636, 5, 1470, 381, 39, 582, 29, 6, 3407, 7, 1, 352, 340, 4, 1, 23503, 12, 8, 6, 469, 3324, 14, 11, 6, 1, 11516, 338, 5, 1, 16023, 6870, 2543, 1061, 61649, 8, 2637, 1375, 20, 25365, 536, 33, 4727, 2520, 4, 1, 1208, 112, 31, 1, 7153, 25, 2992, 13015, 2, 408, 61650, 37, 17529, 6, 21, 319, 20, 1, 5098, 3720, 536, 6, 344, 5, 81744, 8470, 41120, 15379, 5171, 7893, 2461, 2, 18404, 61651, 329, 9265, 7472, 13445, 2, 8721, 34936, 23, 109, 224, 5436, 12, 9, 57, 128, 1, 269, 1303, 4, 1, 118, 6, 668, 5, 1, 187, 11, 8, 262, 112, 77, 257, 548, 3001, 819, 178, 1271, 4349, 16, 2499, 1096, 819, 1412, 819, 81745, 148, 978, 181, 1, 87, 393, 9, 120, 201, 3255, 69, 14, 37, 1574, 8, 13, 2214, 9, 397, 128, 9, 13, 1550, 16, 8, 18, 14, 9, 278, 51, 9, 1463, 3, 1250, 16, 3324, 2, 183, 10277, 5, 1, 319, 2092, 4, 2100, 582, 21, 40, 582, 18, 7965, 7154, 4974, 14178, 26, 2970, 45, 16, 3, 32611, 7035, 14178, 494, 20, 620, 2, 75, 240, 15, 8, 73, 9934, 753, 816, 7035, 106, 660, 81, 1208, 20591, 668, 5, 63, 549, 4, 931, 1996, 39, 1208, 558, 145, 3324, 22, 196, 411, 3778, 15, 48, 6, 3275, 81746, 43, 22, 68, 75, 7, 1211, 15, 122, 4018, 501], [3, 384, 115, 358, 12, 12, 1, 1365, 3015, 6, 52, 18405, 52, 81747, 1628, 2, 391, 3, 13446, 2, 518, 27652, 280, 4, 1881, 5, 1, 421, 407, 12, 12, 1, 150, 23, 546, 73, 2274, 492, 4607, 21, 60, 44, 183, 31, 1, 81748, 18, 27, 44, 31, 1, 2222, 184, 3295, 99, 22, 68, 349, 64, 1, 13906, 797, 10150, 32, 1, 1794, 5, 1664, 7473, 6746, 21, 60, 6, 8, 73, 266, 1, 145, 18, 8, 6, 3, 41121, 427, 2, 2368, 407, 3, 4350, 358, 42, 28, 4, 1, 79, 3208, 4, 213, 2, 24, 119, 12, 12, 1, 1881, 62, 260, 344, 15, 1, 115, 177, 1, 1069, 4, 1, 2983, 61, 241, 70, 340, 1, 2140, 1024, 3160, 1243, 1149, 90, 5052, 8, 288, 20, 249, 1796, 2, 249, 4608, 567, 15, 1, 134, 3605, 19962, 2, 27653, 2, 1, 713, 567, 4, 63, 1094, 15, 81749, 61652, 29081, 166, 2259, 23, 1900, 73, 223], [9, 194, 10, 13, 3, 384, 98, 5, 1110, 59, 20, 3, 99, 905, 1466, 2484, 1192, 7, 1, 946, 16739, 764, 2, 145, 3, 4019, 213, 1, 114, 6, 4053, 18, 1, 405, 6, 1862, 2, 1, 101, 23, 1473, 54, 1, 73, 6602, 6697, 1540, 498, 133, 46, 196, 26, 694, 50, 34, 929, 10, 6, 21, 1030, 221, 283, 2993, 5197, 9, 194, 8, 13, 3032, 11, 2934, 2033, 6, 125, 1377, 7, 1155, 4, 1, 429, 104, 4, 169, 25, 2327, 5, 6196, 12, 10, 13, 1, 86, 452, 1390, 30, 28, 4, 19963, 1294, 7, 151, 3001, 9, 128, 3, 2101, 133, 195, 109, 74, 1481, 15, 9266, 41122, 7, 10, 58, 1268, 5, 1234, 184, 41, 1237, 1393, 2, 5033, 205, 81, 3, 859, 18, 5099, 182, 11078, 12, 10, 196, 21, 26, 1, 7597, 5216, 4, 24, 642, 18, 8, 13, 32612, 70, 2285, 2877, 25366, 2, 51, 218, 70, 2638, 3, 79, 213, 5, 138, 64, 15, 333]]\n"
     ]
    }
   ],
   "source": [
    "reviews_int = []\n",
    "for review in reviews_split:\n",
    "    r = [vocab_to_int[w] for w in review.split()]\n",
    "    reviews_int.append(r)\n",
    "print (reviews_int[0:3])"
   ]
  },
  {
   "cell_type": "code",
   "execution_count": 19,
   "id": "religious-layer",
   "metadata": {
    "execution": {
     "iopub.execute_input": "2021-05-11T11:07:15.923718Z",
     "iopub.status.busy": "2021-05-11T11:07:15.922923Z",
     "iopub.status.idle": "2021-05-11T11:07:15.926099Z",
     "shell.execute_reply": "2021-05-11T11:07:15.926554Z"
    },
    "papermill": {
     "duration": 0.048532,
     "end_time": "2021-05-11T11:07:15.926701",
     "exception": false,
     "start_time": "2021-05-11T11:07:15.878169",
     "status": "completed"
    },
    "tags": []
   },
   "outputs": [
    {
     "data": {
      "text/html": [
       "<div>\n",
       "<style scoped>\n",
       "    .dataframe tbody tr th:only-of-type {\n",
       "        vertical-align: middle;\n",
       "    }\n",
       "\n",
       "    .dataframe tbody tr th {\n",
       "        vertical-align: top;\n",
       "    }\n",
       "\n",
       "    .dataframe thead th {\n",
       "        text-align: right;\n",
       "    }\n",
       "</style>\n",
       "<table border=\"1\" class=\"dataframe\">\n",
       "  <thead>\n",
       "    <tr style=\"text-align: right;\">\n",
       "      <th></th>\n",
       "      <th>review</th>\n",
       "      <th>sentiment</th>\n",
       "      <th>clean_text</th>\n",
       "      <th>len_review</th>\n",
       "    </tr>\n",
       "  </thead>\n",
       "  <tbody>\n",
       "    <tr>\n",
       "      <th>0</th>\n",
       "      <td>one of the other reviewers has mentioned that ...</td>\n",
       "      <td>positive</td>\n",
       "      <td>one of the other reviewers has mentioned that ...</td>\n",
       "      <td>1683</td>\n",
       "    </tr>\n",
       "    <tr>\n",
       "      <th>1</th>\n",
       "      <td>a wonderful little production. &lt;br /&gt;&lt;br /&gt;the...</td>\n",
       "      <td>positive</td>\n",
       "      <td>a wonderful little production br br the filmin...</td>\n",
       "      <td>954</td>\n",
       "    </tr>\n",
       "    <tr>\n",
       "      <th>2</th>\n",
       "      <td>i thought this was a wonderful way to spend ti...</td>\n",
       "      <td>positive</td>\n",
       "      <td>i thought this was a wonderful way to spend ti...</td>\n",
       "      <td>886</td>\n",
       "    </tr>\n",
       "    <tr>\n",
       "      <th>3</th>\n",
       "      <td>basically there's a family where a little boy ...</td>\n",
       "      <td>negative</td>\n",
       "      <td>basically theres a family where a little boy j...</td>\n",
       "      <td>706</td>\n",
       "    </tr>\n",
       "    <tr>\n",
       "      <th>4</th>\n",
       "      <td>petter mattei's \"love in the time of money\" is...</td>\n",
       "      <td>positive</td>\n",
       "      <td>petter matteis love in the time of money is a ...</td>\n",
       "      <td>1261</td>\n",
       "    </tr>\n",
       "  </tbody>\n",
       "</table>\n",
       "</div>"
      ],
      "text/plain": [
       "                                              review sentiment  \\\n",
       "0  one of the other reviewers has mentioned that ...  positive   \n",
       "1  a wonderful little production. <br /><br />the...  positive   \n",
       "2  i thought this was a wonderful way to spend ti...  positive   \n",
       "3  basically there's a family where a little boy ...  negative   \n",
       "4  petter mattei's \"love in the time of money\" is...  positive   \n",
       "\n",
       "                                          clean_text  len_review  \n",
       "0  one of the other reviewers has mentioned that ...        1683  \n",
       "1  a wonderful little production br br the filmin...         954  \n",
       "2  i thought this was a wonderful way to spend ti...         886  \n",
       "3  basically theres a family where a little boy j...         706  \n",
       "4  petter matteis love in the time of money is a ...        1261  "
      ]
     },
     "execution_count": 19,
     "metadata": {},
     "output_type": "execute_result"
    }
   ],
   "source": [
    "df.head()"
   ]
  },
  {
   "cell_type": "markdown",
   "id": "cultural-convergence",
   "metadata": {
    "papermill": {
     "duration": 0.035371,
     "end_time": "2021-05-11T11:07:15.998213",
     "exception": false,
     "start_time": "2021-05-11T11:07:15.962842",
     "status": "completed"
    },
    "tags": []
   },
   "source": [
    "### Tokenize — Encode the labels"
   ]
  },
  {
   "cell_type": "code",
   "execution_count": 20,
   "id": "blond-cincinnati",
   "metadata": {
    "execution": {
     "iopub.execute_input": "2021-05-11T11:07:16.071101Z",
     "iopub.status.busy": "2021-05-11T11:07:16.070337Z",
     "iopub.status.idle": "2021-05-11T11:07:16.075229Z",
     "shell.execute_reply": "2021-05-11T11:07:16.075683Z"
    },
    "papermill": {
     "duration": 0.042843,
     "end_time": "2021-05-11T11:07:16.075816",
     "exception": false,
     "start_time": "2021-05-11T11:07:16.032973",
     "status": "completed"
    },
    "tags": []
   },
   "outputs": [],
   "source": [
    "labels_split = df['sentiment'].tolist()"
   ]
  },
  {
   "cell_type": "code",
   "execution_count": 21,
   "id": "normal-design",
   "metadata": {
    "execution": {
     "iopub.execute_input": "2021-05-11T11:07:16.165511Z",
     "iopub.status.busy": "2021-05-11T11:07:16.164624Z",
     "iopub.status.idle": "2021-05-11T11:07:16.167161Z",
     "shell.execute_reply": "2021-05-11T11:07:16.166729Z"
    },
    "papermill": {
     "duration": 0.055251,
     "end_time": "2021-05-11T11:07:16.167285",
     "exception": false,
     "start_time": "2021-05-11T11:07:16.112034",
     "status": "completed"
    },
    "tags": []
   },
   "outputs": [],
   "source": [
    "encoded_labels = [1 if label =='positive' else 0 for label in labels_split]\n",
    "encoded_labels = np.array(encoded_labels)"
   ]
  },
  {
   "cell_type": "markdown",
   "id": "incorrect-premiere",
   "metadata": {
    "papermill": {
     "duration": 0.037277,
     "end_time": "2021-05-11T11:07:16.239980",
     "exception": false,
     "start_time": "2021-05-11T11:07:16.202703",
     "status": "completed"
    },
    "tags": []
   },
   "source": [
    "## Analyze Reviews Length"
   ]
  },
  {
   "cell_type": "code",
   "execution_count": 22,
   "id": "wooden-toyota",
   "metadata": {
    "execution": {
     "iopub.execute_input": "2021-05-11T11:07:16.328526Z",
     "iopub.status.busy": "2021-05-11T11:07:16.327655Z",
     "iopub.status.idle": "2021-05-11T11:07:16.917324Z",
     "shell.execute_reply": "2021-05-11T11:07:16.916729Z"
    },
    "papermill": {
     "duration": 0.642462,
     "end_time": "2021-05-11T11:07:16.917455",
     "exception": false,
     "start_time": "2021-05-11T11:07:16.274993",
     "status": "completed"
    },
    "tags": []
   },
   "outputs": [
    {
     "data": {
      "image/png": "[encoded data removed]",
      "text/plain": [
       "<Figure size 640x480 with 1 Axes>"
      ]
     },
     "metadata": {},
     "output_type": "display_data"
    },
    {
     "data": {
      "text/plain": [
       "count    50000.000000\n",
       "mean       230.258240\n",
       "std        170.663887\n",
       "min          4.000000\n",
       "25%        126.000000\n",
       "50%        172.000000\n",
       "75%        280.000000\n",
       "max       2469.000000\n",
       "dtype: float64"
      ]
     },
     "execution_count": 22,
     "metadata": {},
     "output_type": "execute_result"
    }
   ],
   "source": [
    "import pandas as pd\n",
    "import matplotlib.pyplot as plt\n",
    "%matplotlib inline\n",
    "reviews_len = [len(x) for x in reviews_int]\n",
    "pd.Series(reviews_len).hist()\n",
    "plt.show()\n",
    "pd.Series(reviews_len).describe()"
   ]
  },
  {
   "cell_type": "markdown",
   "id": "southeast-engine",
   "metadata": {
    "papermill": {
     "duration": 0.035633,
     "end_time": "2021-05-11T11:07:16.991680",
     "exception": false,
     "start_time": "2021-05-11T11:07:16.956047",
     "status": "completed"
    },
    "tags": []
   },
   "source": [
    "###  Removing Outliers — Getting rid of extremely long or short reviews"
   ]
  },
  {
   "cell_type": "code",
   "execution_count": 23,
   "id": "accepted-saver",
   "metadata": {
    "execution": {
     "iopub.execute_input": "2021-05-11T11:07:17.085589Z",
     "iopub.status.busy": "2021-05-11T11:07:17.084753Z",
     "iopub.status.idle": "2021-05-11T11:07:17.086883Z",
     "shell.execute_reply": "2021-05-11T11:07:17.087402Z"
    },
    "papermill": {
     "duration": 0.060033,
     "end_time": "2021-05-11T11:07:17.087567",
     "exception": false,
     "start_time": "2021-05-11T11:07:17.027534",
     "status": "completed"
    },
    "tags": []
   },
   "outputs": [],
   "source": [
    "reviews_int = [ reviews_int[i] for i, l in enumerate(reviews_len) if l>0 ]\n",
    "encoded_labels = [ encoded_labels[i] for i, l in enumerate(reviews_len) if l> 0 ]"
   ]
  },
  {
   "cell_type": "markdown",
   "id": "polyphonic-plane",
   "metadata": {
    "papermill": {
     "duration": 0.036383,
     "end_time": "2021-05-11T11:07:17.160699",
     "exception": false,
     "start_time": "2021-05-11T11:07:17.124316",
     "status": "completed"
    },
    "tags": []
   },
   "source": [
    "### Padding / Truncating the remaining data"
   ]
  },
  {
   "cell_type": "code",
   "execution_count": 24,
   "id": "listed-despite",
   "metadata": {
    "execution": {
     "iopub.execute_input": "2021-05-11T11:07:17.240476Z",
     "iopub.status.busy": "2021-05-11T11:07:17.239610Z",
     "iopub.status.idle": "2021-05-11T11:07:17.241728Z",
     "shell.execute_reply": "2021-05-11T11:07:17.242154Z"
    },
    "papermill": {
     "duration": 0.044993,
     "end_time": "2021-05-11T11:07:17.242289",
     "exception": false,
     "start_time": "2021-05-11T11:07:17.197296",
     "status": "completed"
    },
    "tags": []
   },
   "outputs": [],
   "source": [
    "def pad_features(reviews_int, seq_length):\n",
    "    ''' Return features of review_ints, where each review is padded with 0's or truncated to the input seq_length.\n",
    "    '''\n",
    "    features = np.zeros((len(reviews_int), seq_length), dtype = int)\n",
    "    \n",
    "    for i, review in enumerate(reviews_int):\n",
    "        review_len = len(review)\n",
    "        \n",
    "        if review_len <= seq_length:\n",
    "            zeroes = list(np.zeros(seq_length-review_len))\n",
    "            new = zeroes+review\n",
    "        elif review_len > seq_length:\n",
    "            new = review[0:seq_length]\n",
    "        \n",
    "        features[i,:] = np.array(new)\n",
    "    \n",
    "    return features"
   ]
  },
  {
   "cell_type": "code",
   "execution_count": 25,
   "id": "owned-pointer",
   "metadata": {
    "execution": {
     "iopub.execute_input": "2021-05-11T11:07:17.325577Z",
     "iopub.status.busy": "2021-05-11T11:07:17.324803Z",
     "iopub.status.idle": "2021-05-11T11:07:19.826849Z",
     "shell.execute_reply": "2021-05-11T11:07:19.826387Z"
    },
    "papermill": {
     "duration": 2.548509,
     "end_time": "2021-05-11T11:07:19.826977",
     "exception": false,
     "start_time": "2021-05-11T11:07:17.278468",
     "status": "completed"
    },
    "tags": []
   },
   "outputs": [],
   "source": [
    "features = pad_features(reviews_int,200)"
   ]
  },
  {
   "cell_type": "code",
   "execution_count": 26,
   "id": "abandoned-munich",
   "metadata": {
    "execution": {
     "iopub.execute_input": "2021-05-11T11:07:19.905323Z",
     "iopub.status.busy": "2021-05-11T11:07:19.904723Z",
     "iopub.status.idle": "2021-05-11T11:07:19.907773Z",
     "shell.execute_reply": "2021-05-11T11:07:19.908465Z"
    },
    "papermill": {
     "duration": 0.045039,
     "end_time": "2021-05-11T11:07:19.908678",
     "exception": false,
     "start_time": "2021-05-11T11:07:19.863639",
     "status": "completed"
    },
    "tags": []
   },
   "outputs": [
    {
     "name": "stdout",
     "output_type": "stream",
     "text": [
      "[[   28     4     1 ...   978   181     1]\n",
      " [    0     0     0 ...  1900    73   223]\n",
      " [    0     0     0 ...    64    15   333]\n",
      " ...\n",
      " [    0     0     0 ...    20     1   946]\n",
      " [    0     0     0 ... 10151 45601    60]\n",
      " [    0     0     0 ...    12    79  1215]]\n"
     ]
    }
   ],
   "source": [
    "print (features[:10,:])"
   ]
  },
  {
   "cell_type": "code",
   "execution_count": 27,
   "id": "meaningful-substance",
   "metadata": {
    "execution": {
     "iopub.execute_input": "2021-05-11T11:07:19.987695Z",
     "iopub.status.busy": "2021-05-11T11:07:19.986928Z",
     "iopub.status.idle": "2021-05-11T11:07:19.989422Z",
     "shell.execute_reply": "2021-05-11T11:07:19.989811Z"
    },
    "papermill": {
     "duration": 0.043404,
     "end_time": "2021-05-11T11:07:19.989940",
     "exception": false,
     "start_time": "2021-05-11T11:07:19.946536",
     "status": "completed"
    },
    "tags": []
   },
   "outputs": [],
   "source": [
    "len_feat = len(features)\n",
    "split_frac = 0.8"
   ]
  },
  {
   "cell_type": "markdown",
   "id": "social-beatles",
   "metadata": {
    "papermill": {
     "duration": 0.037473,
     "end_time": "2021-05-11T11:07:20.063993",
     "exception": false,
     "start_time": "2021-05-11T11:07:20.026520",
     "status": "completed"
    },
    "tags": []
   },
   "source": [
    "### Training, Validation, Test Dataset Split"
   ]
  },
  {
   "cell_type": "code",
   "execution_count": 28,
   "id": "heated-career",
   "metadata": {
    "execution": {
     "iopub.execute_input": "2021-05-11T11:07:20.145843Z",
     "iopub.status.busy": "2021-05-11T11:07:20.144940Z",
     "iopub.status.idle": "2021-05-11T11:07:20.147894Z",
     "shell.execute_reply": "2021-05-11T11:07:20.147420Z"
    },
    "papermill": {
     "duration": 0.04703,
     "end_time": "2021-05-11T11:07:20.148011",
     "exception": false,
     "start_time": "2021-05-11T11:07:20.100981",
     "status": "completed"
    },
    "tags": []
   },
   "outputs": [],
   "source": [
    "split_frac = 0.8\n",
    "train_x = features[0:int(split_frac*len_feat)]\n",
    "train_y = encoded_labels[0:int(split_frac*len_feat)]\n",
    "remaining_x = features[int(split_frac*len_feat):]\n",
    "remaining_y = encoded_labels[int(split_frac*len_feat):]\n",
    "valid_x = remaining_x[0:int(len(remaining_x)*0.5)]\n",
    "valid_y = remaining_y[0:int(len(remaining_y)*0.5)]\n",
    "test_x = remaining_x[int(len(remaining_x)*0.5):]\n",
    "test_y = remaining_y[int(len(remaining_y)*0.5):]"
   ]
  },
  {
   "cell_type": "code",
   "execution_count": 29,
   "id": "prime-enforcement",
   "metadata": {
    "execution": {
     "iopub.execute_input": "2021-05-11T11:07:20.233267Z",
     "iopub.status.busy": "2021-05-11T11:07:20.232414Z",
     "iopub.status.idle": "2021-05-11T11:07:20.238451Z",
     "shell.execute_reply": "2021-05-11T11:07:20.238927Z"
    },
    "papermill": {
     "duration": 0.054626,
     "end_time": "2021-05-11T11:07:20.239085",
     "exception": false,
     "start_time": "2021-05-11T11:07:20.184459",
     "status": "completed"
    },
    "tags": []
   },
   "outputs": [
    {
     "data": {
      "text/plain": [
       "list"
      ]
     },
     "execution_count": 29,
     "metadata": {},
     "output_type": "execute_result"
    }
   ],
   "source": [
    "type(test_y)"
   ]
  },
  {
   "cell_type": "code",
   "execution_count": 30,
   "id": "smoking-conflict",
   "metadata": {
    "execution": {
     "iopub.execute_input": "2021-05-11T11:07:20.325533Z",
     "iopub.status.busy": "2021-05-11T11:07:20.324804Z",
     "iopub.status.idle": "2021-05-11T11:07:20.327125Z",
     "shell.execute_reply": "2021-05-11T11:07:20.327516Z"
    },
    "papermill": {
     "duration": 0.051267,
     "end_time": "2021-05-11T11:07:20.327656",
     "exception": false,
     "start_time": "2021-05-11T11:07:20.276389",
     "status": "completed"
    },
    "tags": []
   },
   "outputs": [],
   "source": [
    "train_y = np.array(train_y)\n",
    "test_y = np.array(test_y)\n",
    "valid_y = np.array(valid_y)"
   ]
  },
  {
   "cell_type": "markdown",
   "id": "discrete-bronze",
   "metadata": {
    "papermill": {
     "duration": 0.037118,
     "end_time": "2021-05-11T11:07:20.402040",
     "exception": false,
     "start_time": "2021-05-11T11:07:20.364922",
     "status": "completed"
    },
    "tags": []
   },
   "source": [
    "## Dataloaders and Batching"
   ]
  },
  {
   "cell_type": "code",
   "execution_count": 31,
   "id": "north-planning",
   "metadata": {
    "execution": {
     "iopub.execute_input": "2021-05-11T11:07:20.482547Z",
     "iopub.status.busy": "2021-05-11T11:07:20.481877Z",
     "iopub.status.idle": "2021-05-11T11:07:21.670480Z",
     "shell.execute_reply": "2021-05-11T11:07:21.669992Z"
    },
    "papermill": {
     "duration": 1.23133,
     "end_time": "2021-05-11T11:07:21.670609",
     "exception": false,
     "start_time": "2021-05-11T11:07:20.439279",
     "status": "completed"
    },
    "tags": []
   },
   "outputs": [],
   "source": [
    "import torch\n",
    "from torch.utils.data import DataLoader, TensorDataset\n",
    "# create Tensor datasets\n",
    "train_data = TensorDataset(torch.from_numpy(train_x), torch.from_numpy(train_y))\n",
    "valid_data = TensorDataset(torch.from_numpy(valid_x), torch.from_numpy(valid_y))\n",
    "test_data = TensorDataset(torch.from_numpy(test_x), torch.from_numpy(test_y))\n",
    "# dataloaders\n",
    "batch_size = 50\n",
    "# make sure to SHUFFLE your data\n",
    "train_loader = DataLoader(train_data, shuffle=True, batch_size=batch_size)\n",
    "valid_loader = DataLoader(valid_data, shuffle=True, batch_size=batch_size)\n",
    "test_loader = DataLoader(test_data, shuffle=True, batch_size=batch_size)"
   ]
  },
  {
   "cell_type": "code",
   "execution_count": 32,
   "id": "dominant-meditation",
   "metadata": {
    "execution": {
     "iopub.execute_input": "2021-05-11T11:07:21.754771Z",
     "iopub.status.busy": "2021-05-11T11:07:21.754217Z",
     "iopub.status.idle": "2021-05-11T11:07:21.790912Z",
     "shell.execute_reply": "2021-05-11T11:07:21.791375Z"
    },
    "papermill": {
     "duration": 0.08097,
     "end_time": "2021-05-11T11:07:21.791516",
     "exception": false,
     "start_time": "2021-05-11T11:07:21.710546",
     "status": "completed"
    },
    "tags": []
   },
   "outputs": [
    {
     "name": "stdout",
     "output_type": "stream",
     "text": [
      "Sample input size:  torch.Size([50, 200])\n",
      "Sample input: \n",
      " tensor([[ 2040,  2158, 35419,  ...,     1,   617,     6],\n",
      "        [  161,    81,    10,  ...,    28,   838,   174],\n",
      "        [    0,     0,     0,  ...,    56,     2,   547],\n",
      "        ...,\n",
      "        [    9,  2413,    22,  ...,    91,     4,   151],\n",
      "        [    0,     0,     0,  ...,    20,     1,   946],\n",
      "        [   10,  1372, 19399,  ..., 12876,    43,    10]])\n",
      "\n",
      "Sample label size:  torch.Size([50])\n",
      "Sample label: \n",
      " tensor([1, 0, 0, 0, 1, 0, 1, 0, 1, 0, 1, 0, 1, 0, 1, 1, 0, 0, 1, 1, 0, 1, 1, 1,\n",
      "        1, 1, 0, 1, 1, 0, 1, 1, 0, 0, 1, 1, 0, 0, 1, 0, 0, 0, 0, 1, 1, 1, 1, 1,\n",
      "        1, 1])\n"
     ]
    }
   ],
   "source": [
    "# obtain one batch of training data\n",
    "dataiter = iter(train_loader)\n",
    "sample_x, sample_y = next(dataiter)\n",
    "print('Sample input size: ', sample_x.size()) # batch_size, seq_length\n",
    "print('Sample input: \\n', sample_x)\n",
    "print()\n",
    "print('Sample label size: ', sample_y.size()) # batch_size\n",
    "print('Sample label: \\n', sample_y)"
   ]
  },
  {
   "cell_type": "markdown",
   "id": "empty-detective",
   "metadata": {
    "papermill": {
     "duration": 0.03763,
     "end_time": "2021-05-11T11:07:21.866713",
     "exception": false,
     "start_time": "2021-05-11T11:07:21.829083",
     "status": "completed"
    },
    "tags": []
   },
   "source": [
    "## Define the LSTM Network Architecture\n"
   ]
  },
  {
   "cell_type": "code",
   "execution_count": 33,
   "id": "nominated-corruption",
   "metadata": {
    "execution": {
     "iopub.execute_input": "2021-05-11T11:07:21.955378Z",
     "iopub.status.busy": "2021-05-11T11:07:21.954608Z",
     "iopub.status.idle": "2021-05-11T11:07:21.957346Z",
     "shell.execute_reply": "2021-05-11T11:07:21.956897Z"
    },
    "papermill": {
     "duration": 0.052943,
     "end_time": "2021-05-11T11:07:21.957457",
     "exception": false,
     "start_time": "2021-05-11T11:07:21.904514",
     "status": "completed"
    },
    "tags": []
   },
   "outputs": [],
   "source": [
    "import torch.nn as nn\n",
    "\n",
    "class SentimentLSTM(nn.Module):\n",
    "    \"\"\"\n",
    "    The RNN model that will be used to perform Sentiment analysis.\n",
    "    \"\"\"\n",
    "\n",
    "    def __init__(self, vocab_size, output_size, embedding_dim, hidden_dim, n_layers, drop_prob=0.5):\n",
    "        \"\"\"\n",
    "        Initialize the model by setting up the layers.\n",
    "        \"\"\"\n",
    "        super().__init__()\n",
    "\n",
    "        self.output_size = output_size\n",
    "        self.n_layers = n_layers\n",
    "        self.hidden_dim = hidden_dim\n",
    "        \n",
    "        # embedding and LSTM layers\n",
    "        self.embedding = nn.Embedding(vocab_size, embedding_dim)\n",
    "        self.lstm = nn.LSTM(embedding_dim, hidden_dim, n_layers, \n",
    "                            dropout=drop_prob, batch_first=True)\n",
    "        \n",
    "        # dropout layer\n",
    "        self.dropout = nn.Dropout(0.3)\n",
    "        \n",
    "        # linear and sigmoid layers\n",
    "        self.fc = nn.Linear(hidden_dim, output_size)\n",
    "        self.sig = nn.Sigmoid()\n",
    "        \n",
    "\n",
    "    def forward(self, x, hidden):\n",
    "        \"\"\"\n",
    "        Perform a forward pass of our model on some input and hidden state.\n",
    "        \"\"\"\n",
    "        batch_size = x.size(0)\n",
    "\n",
    "        # embeddings and lstm_out\n",
    "        embeds = self.embedding(x)\n",
    "        lstm_out, hidden = self.lstm(embeds, hidden)\n",
    "    \n",
    "        # stack up lstm outputs\n",
    "        lstm_out = lstm_out.contiguous().view(-1, self.hidden_dim)\n",
    "        \n",
    "        # dropout and fully-connected layer\n",
    "        out = self.dropout(lstm_out)\n",
    "        out = self.fc(out)\n",
    "        # sigmoid function\n",
    "        sig_out = self.sig(out)\n",
    "        \n",
    "        # reshape to be batch_size first\n",
    "        sig_out = sig_out.view(batch_size, -1)\n",
    "        sig_out = sig_out[:, -1] # get last batch of labels\n",
    "        \n",
    "        # return last sigmoid output and hidden state\n",
    "        return sig_out, hidden\n",
    "    \n",
    "    \n",
    "    def init_hidden(self, batch_size):\n",
    "        ''' Initializes hidden state '''\n",
    "        # Create two new tensors with sizes n_layers x batch_size x hidden_dim,\n",
    "        # initialized to zero, for hidden state and cell state of LSTM\n",
    "        weight = next(self.parameters()).data\n",
    "        \n",
    "        if (torch.cuda.is_available()):\n",
    "            hidden = (weight.new(self.n_layers, batch_size, self.hidden_dim).zero_().cuda(),\n",
    "                  weight.new(self.n_layers, batch_size, self.hidden_dim).zero_().cuda())\n",
    "        else:\n",
    "            hidden = (weight.new(self.n_layers, batch_size, self.hidden_dim).zero_(),\n",
    "                      weight.new(self.n_layers, batch_size, self.hidden_dim).zero_())\n",
    "        \n",
    "        return hidden\n",
    "        "
   ]
  },
  {
   "cell_type": "markdown",
   "id": "finite-interim",
   "metadata": {
    "papermill": {
     "duration": 0.038079,
     "end_time": "2021-05-11T11:07:22.033620",
     "exception": false,
     "start_time": "2021-05-11T11:07:21.995541",
     "status": "completed"
    },
    "tags": []
   },
   "source": [
    "## Training the Network"
   ]
  },
  {
   "cell_type": "markdown",
   "id": "verbal-oklahoma",
   "metadata": {
    "papermill": {
     "duration": 0.03766,
     "end_time": "2021-05-11T11:07:22.108988",
     "exception": false,
     "start_time": "2021-05-11T11:07:22.071328",
     "status": "completed"
    },
    "tags": []
   },
   "source": [
    "## Instantiate the network"
   ]
  },
  {
   "cell_type": "code",
   "execution_count": 34,
   "id": "engaging-approval",
   "metadata": {
    "execution": {
     "iopub.execute_input": "2021-05-11T11:07:22.190384Z",
     "iopub.status.busy": "2021-05-11T11:07:22.189836Z",
     "iopub.status.idle": "2021-05-11T11:07:23.457621Z",
     "shell.execute_reply": "2021-05-11T11:07:23.458284Z"
    },
    "papermill": {
     "duration": 1.310603,
     "end_time": "2021-05-11T11:07:23.458497",
     "exception": false,
     "start_time": "2021-05-11T11:07:22.147894",
     "status": "completed"
    },
    "tags": []
   },
   "outputs": [
    {
     "name": "stdout",
     "output_type": "stream",
     "text": [
      "SentimentLSTM(\n",
      "  (embedding): Embedding(181686, 400)\n",
      "  (lstm): LSTM(400, 256, num_layers=2, batch_first=True, dropout=0.5)\n",
      "  (dropout): Dropout(p=0.3, inplace=False)\n",
      "  (fc): Linear(in_features=256, out_features=1, bias=True)\n",
      "  (sig): Sigmoid()\n",
      ")\n"
     ]
    }
   ],
   "source": [
    "# Instantiate the model w/ hyperparams\n",
    "vocab_size = len(vocab_to_int)+1 # +1 for the 0 padding\n",
    "output_size = 1\n",
    "embedding_dim = 400\n",
    "hidden_dim = 256\n",
    "n_layers = 2\n",
    "net = SentimentLSTM(vocab_size, output_size, embedding_dim, hidden_dim, n_layers)\n",
    "\n",
    "print(net)"
   ]
  },
  {
   "cell_type": "code",
   "execution_count": 38,
   "id": "loved-assignment",
   "metadata": {
    "execution": {
     "iopub.execute_input": "2021-05-11T11:07:24.019143Z",
     "iopub.status.busy": "2021-05-11T11:07:24.018481Z",
     "iopub.status.idle": "2021-05-11T11:07:24.022662Z",
     "shell.execute_reply": "2021-05-11T11:07:24.022239Z"
    },
    "papermill": {
     "duration": 0.525349,
     "end_time": "2021-05-11T11:07:24.022783",
     "exception": false,
     "start_time": "2021-05-11T11:07:23.497434",
     "status": "completed"
    },
    "tags": []
   },
   "outputs": [
    {
     "name": "stdout",
     "output_type": "stream",
     "text": [
      "No GPU available, training on CPU.\n"
     ]
    }
   ],
   "source": [
    "# First checking if GPU is available\n",
    "train_on_gpu=torch.cuda.is_available()\n",
    "\n",
    "if(train_on_gpu):\n",
    "    print('Training on GPU.')\n",
    "else:\n",
    "    print('No GPU available, training on CPU.')"
   ]
  },
  {
   "cell_type": "markdown",
   "id": "neutral-street",
   "metadata": {
    "papermill": {
     "duration": 0.038801,
     "end_time": "2021-05-11T11:07:24.100460",
     "exception": false,
     "start_time": "2021-05-11T11:07:24.061659",
     "status": "completed"
    },
    "tags": []
   },
   "source": [
    "## Training Loop\n",
    "Most of the code in training loop is pretty standard Deep Learning training code that you might see often in all the implementations that’s using PyTorch framework."
   ]
  },
  {
   "cell_type": "code",
   "execution_count": 39,
   "id": "radio-party",
   "metadata": {
    "execution": {
     "iopub.execute_input": "2021-05-11T11:07:24.183035Z",
     "iopub.status.busy": "2021-05-11T11:07:24.182529Z",
     "iopub.status.idle": "2021-05-11T11:07:24.185780Z",
     "shell.execute_reply": "2021-05-11T11:07:24.186690Z"
    },
    "papermill": {
     "duration": 0.046974,
     "end_time": "2021-05-11T11:07:24.186847",
     "exception": false,
     "start_time": "2021-05-11T11:07:24.139873",
     "status": "completed"
    },
    "tags": []
   },
   "outputs": [],
   "source": [
    "# loss and optimization functions\n",
    "lr=0.001\n",
    "\n",
    "criterion = nn.BCELoss()\n",
    "optimizer = torch.optim.Adam(net.parameters(), lr=lr)"
   ]
  },
  {
   "cell_type": "code",
   "execution_count": 40,
   "id": "medieval-tampa",
   "metadata": {
    "execution": {
     "iopub.execute_input": "2021-05-11T11:07:24.324876Z",
     "iopub.status.busy": "2021-05-11T11:07:24.323272Z",
     "iopub.status.idle": "2021-05-11T11:11:02.165714Z",
     "shell.execute_reply": "2021-05-11T11:11:02.166336Z"
    },
    "papermill": {
     "duration": 217.934012,
     "end_time": "2021-05-11T11:11:02.166541",
     "exception": false,
     "start_time": "2021-05-11T11:07:24.232529",
     "status": "completed"
    },
    "tags": []
   },
   "outputs": [
    {
     "name": "stdout",
     "output_type": "stream",
     "text": [
      "Epoch: 1/2... Step: 100... Train Loss: 0.299352... Val Loss: 0.478708... Val Accuracy: 0.774\n",
      "Epoch: 1/2... Step: 200... Train Loss: 0.402342... Val Loss: 0.417118... Val Accuracy: 0.815\n",
      "Epoch: 1/2... Step: 300... Train Loss: 0.305105... Val Loss: 0.413093... Val Accuracy: 0.822\n",
      "Epoch: 1/2... Step: 400... Train Loss: 0.315404... Val Loss: 0.399341... Val Accuracy: 0.821\n",
      "Epoch: 1/2... Step: 500... Train Loss: 0.341445... Val Loss: 0.376315... Val Accuracy: 0.841\n",
      "Epoch: 1/2... Step: 600... Train Loss: 0.345808... Val Loss: 0.370111... Val Accuracy: 0.839\n",
      "Epoch: 1/2... Step: 700... Train Loss: 0.251694... Val Loss: 0.394143... Val Accuracy: 0.829\n",
      "Epoch: 1/2... Step: 800... Train Loss: 0.389023... Val Loss: 0.359590... Val Accuracy: 0.844\n",
      "Epoch 1/2 - Train Loss: 0.372502, Train Accuracy: 0.839\n",
      "Epoch: 2/2... Step: 900... Train Loss: 0.280034... Val Loss: 0.359140... Val Accuracy: 0.846\n",
      "Epoch: 2/2... Step: 1000... Train Loss: 0.252885... Val Loss: 0.362857... Val Accuracy: 0.851\n",
      "Epoch: 2/2... Step: 1100... Train Loss: 0.352445... Val Loss: 0.457631... Val Accuracy: 0.816\n",
      "Epoch: 2/2... Step: 1200... Train Loss: 0.249357... Val Loss: 0.374757... Val Accuracy: 0.848\n",
      "Epoch: 2/2... Step: 1300... Train Loss: 0.284162... Val Loss: 0.363832... Val Accuracy: 0.844\n",
      "Epoch: 2/2... Step: 1400... Train Loss: 0.254440... Val Loss: 0.372765... Val Accuracy: 0.847\n",
      "Epoch: 2/2... Step: 1500... Train Loss: 0.335722... Val Loss: 0.358500... Val Accuracy: 0.848\n",
      "Epoch: 2/2... Step: 1600... Train Loss: 0.212490... Val Loss: 0.347076... Val Accuracy: 0.860\n",
      "Epoch 2/2 - Train Loss: 0.251941, Train Accuracy: 0.900\n",
      "Model saved to sentiment_rnn.pth\n"
     ]
    }
   ],
   "source": [
    "import torch\n",
    "import numpy as np\n",
    "import matplotlib.pyplot as plt\n",
    "\n",
    "# Training params\n",
    "epochs = 2\n",
    "counter = 0\n",
    "print_every = 100\n",
    "clip = 5  # Gradient clipping\n",
    "\n",
    "# Metrics tracking\n",
    "train_losses = []\n",
    "train_accuracies = []\n",
    "val_losses = []\n",
    "val_accuracies = []\n",
    "\n",
    "# Move model to GPU if available\n",
    "if train_on_gpu:\n",
    "    net.cuda()\n",
    "\n",
    "net.train()\n",
    "# Train for some number of epochs\n",
    "for e in range(epochs):\n",
    "    h = net.init_hidden(batch_size)\n",
    "    epoch_train_loss = 0\n",
    "    epoch_correct = 0\n",
    "    total_samples = 0\n",
    "\n",
    "    for inputs, labels in train_loader:\n",
    "        counter += 1\n",
    "\n",
    "        if train_on_gpu:\n",
    "            inputs, labels = inputs.cuda(), labels.cuda()\n",
    "\n",
    "        h = tuple([each.data for each in h])\n",
    "\n",
    "        net.zero_grad()\n",
    "        output, h = net(inputs, h)\n",
    "        loss = criterion(output.squeeze(), labels.float())\n",
    "        loss.backward()\n",
    "\n",
    "        # Gradient clipping\n",
    "        torch.nn.utils.clip_grad_norm_(net.parameters(), clip)\n",
    "        optimizer.step()\n",
    "\n",
    "        # Track training loss and accuracy\n",
    "        epoch_train_loss += loss.item()\n",
    "        preds = torch.round(output.squeeze())\n",
    "        correct_tensor = preds.eq(labels.float().view_as(preds))\n",
    "        correct = correct_tensor.sum().item()\n",
    "        epoch_correct += correct\n",
    "        total_samples += labels.size(0)\n",
    "\n",
    "        # Validation check\n",
    "        if counter % print_every == 0:\n",
    "            val_h = net.init_hidden(batch_size)\n",
    "            val_loss_list = []\n",
    "            val_correct = 0\n",
    "            val_samples = 0\n",
    "            net.eval()\n",
    "\n",
    "            for val_inputs, val_labels in valid_loader:\n",
    "                val_h = tuple([each.data for each in val_h])\n",
    "\n",
    "                if train_on_gpu:\n",
    "                    val_inputs, val_labels = val_inputs.cuda(), val_labels.cuda()\n",
    "\n",
    "                val_output, val_h = net(val_inputs, val_h)\n",
    "                v_loss = criterion(val_output.squeeze(), val_labels.float())\n",
    "                val_loss_list.append(v_loss.item())\n",
    "\n",
    "                val_preds = torch.round(val_output.squeeze())\n",
    "                val_correct_tensor = val_preds.eq(val_labels.float().view_as(val_preds))\n",
    "                val_correct += val_correct_tensor.sum().item()\n",
    "                val_samples += val_labels.size(0)\n",
    "\n",
    "            net.train()\n",
    "\n",
    "            # Calculate average validation metrics\n",
    "            avg_val_loss = np.mean(val_loss_list)\n",
    "            val_accuracy = val_correct / val_samples\n",
    "            val_losses.append(avg_val_loss)\n",
    "            val_accuracies.append(val_accuracy)\n",
    "\n",
    "            print(\"Epoch: {}/{}...\".format(e + 1, epochs),\n",
    "                  \"Step: {}...\".format(counter),\n",
    "                  \"Train Loss: {:.6f}...\".format(loss.item()),\n",
    "                  \"Val Loss: {:.6f}...\".format(avg_val_loss),\n",
    "                  \"Val Accuracy: {:.3f}\".format(val_accuracy))\n",
    "\n",
    "    # Record epoch metrics\n",
    "    avg_train_loss = epoch_train_loss / len(train_loader)\n",
    "    train_accuracy = epoch_correct / total_samples\n",
    "    train_losses.append(avg_train_loss)\n",
    "    train_accuracies.append(train_accuracy)\n",
    "\n",
    "    print(f\"Epoch {e + 1}/{epochs} - Train Loss: {avg_train_loss:.6f}, Train Accuracy: {train_accuracy:.3f}\")\n",
    "\n",
    "# ✅ Save the trained model after finishing training\n",
    "model_path = 'sentiment_rnn.pth'\n",
    "torch.save({\n",
    "    'model_state_dict': net.state_dict(),\n",
    "    'optimizer_state_dict': optimizer.state_dict(),\n",
    "    'epoch': epochs\n",
    "}, model_path)\n",
    "\n",
    "print(f\"Model saved to {model_path}\")\n"
   ]
  },
  {
   "cell_type": "code",
   "execution_count": 41,
   "id": "dc3c0141",
   "metadata": {},
   "outputs": [
    {
     "data": {
      "image/png": "[encoded data removed]",
      "text/plain": [
       "<Figure size 1200x500 with 2 Axes>"
      ]
     },
     "metadata": {},
     "output_type": "display_data"
    }
   ],
   "source": [
    "# Plot training and validation loss\n",
    "plt.figure(figsize=(12, 5))\n",
    "\n",
    "# Loss Plot\n",
    "plt.subplot(1, 2, 1)\n",
    "plt.plot(train_losses, label='Training Loss')\n",
    "plt.plot(val_losses, label='Validation Loss')\n",
    "plt.title('Training and Validation Loss')\n",
    "plt.xlabel('Epoch')\n",
    "plt.ylabel('Loss')\n",
    "plt.legend()\n",
    "\n",
    "# Accuracy Plot\n",
    "plt.subplot(1, 2, 2)\n",
    "plt.plot(train_accuracies, label='Training Accuracy')\n",
    "plt.plot(val_accuracies, label='Validation Accuracy')\n",
    "plt.title('Training and Validation Accuracy')\n",
    "plt.xlabel('Epoch')\n",
    "plt.ylabel('Accuracy')\n",
    "plt.legend()\n",
    "\n",
    "plt.tight_layout()\n",
    "plt.show()\n",
    "\n"
   ]
  },
  {
   "cell_type": "markdown",
   "id": "elegant-concord",
   "metadata": {
    "papermill": {
     "duration": 0.046758,
     "end_time": "2021-05-11T11:11:02.262502",
     "exception": false,
     "start_time": "2021-05-11T11:11:02.215744",
     "status": "completed"
    },
    "tags": []
   },
   "source": [
    "### Testing\n",
    "- On Test Data"
   ]
  },
  {
   "cell_type": "code",
   "execution_count": 43,
   "id": "modern-crack",
   "metadata": {
    "execution": {
     "iopub.execute_input": "2021-05-11T11:11:02.364729Z",
     "iopub.status.busy": "2021-05-11T11:11:02.363961Z",
     "iopub.status.idle": "2021-05-11T11:11:03.592287Z",
     "shell.execute_reply": "2021-05-11T11:11:03.592972Z"
    },
    "papermill": {
     "duration": 1.283659,
     "end_time": "2021-05-11T11:11:03.593198",
     "exception": false,
     "start_time": "2021-05-11T11:11:02.309539",
     "status": "completed"
    },
    "tags": []
   },
   "outputs": [
    {
     "name": "stdout",
     "output_type": "stream",
     "text": [
      "Test loss: 0.345\n",
      "Test accuracy: 0.855\n",
      "\n",
      "Classification Report:\n",
      "              precision    recall  f1-score   support\n",
      "\n",
      "           0       0.86      0.85      0.86      2530\n",
      "           1       0.85      0.86      0.85      2470\n",
      "\n",
      "    accuracy                           0.86      5000\n",
      "   macro avg       0.86      0.86      0.86      5000\n",
      "weighted avg       0.86      0.86      0.86      5000\n",
      "\n"
     ]
    },
    {
     "data": {
      "image/png": "[encoded data removed]",
      "text/plain": [
       "<Figure size 640x480 with 2 Axes>"
      ]
     },
     "metadata": {},
     "output_type": "display_data"
    }
   ],
   "source": [
    "from sklearn.metrics import classification_report, confusion_matrix, ConfusionMatrixDisplay\n",
    "import matplotlib.pyplot as plt\n",
    "import numpy as np\n",
    "import torch\n",
    "\n",
    "# Track loss and predictions\n",
    "test_losses = []  # track loss\n",
    "num_correct = 0\n",
    "all_preds = []\n",
    "all_labels = []\n",
    "\n",
    "# Initialize hidden state\n",
    "h = net.init_hidden(batch_size)\n",
    "\n",
    "net.eval()\n",
    "# Iterate over test data\n",
    "for inputs, labels in test_loader:\n",
    "    h = tuple([each.data for each in h])  # Detach hidden state\n",
    "\n",
    "    if train_on_gpu:\n",
    "        inputs, labels = inputs.cuda(), labels.cuda()\n",
    "\n",
    "    # Get predicted outputs\n",
    "    output, h = net(inputs, h)\n",
    "\n",
    "    # Calculate loss\n",
    "    test_loss = criterion(output.squeeze(), labels.float())\n",
    "    test_losses.append(test_loss.item())\n",
    "\n",
    "    # Convert output probabilities to predicted class (0 or 1)\n",
    "    pred = torch.round(output.squeeze())  # Rounds to the nearest integer\n",
    "\n",
    "    # Store predictions and labels\n",
    "    all_preds.extend(pred.detach().cpu().numpy())\n",
    "    all_labels.extend(labels.cpu().numpy())\n",
    "\n",
    "    # Compare predictions to true label\n",
    "    correct_tensor = pred.eq(labels.float().view_as(pred))\n",
    "    correct = np.squeeze(correct_tensor.cpu().numpy())\n",
    "    num_correct += np.sum(correct)\n",
    "\n",
    "# -- Stats -- ##\n",
    "# Average test loss\n",
    "print(\"Test loss: {:.3f}\".format(np.mean(test_losses)))\n",
    "\n",
    "# Accuracy over all test data\n",
    "test_acc = num_correct / len(test_loader.dataset)\n",
    "print(\"Test accuracy: {:.3f}\".format(test_acc))\n",
    "\n",
    "# Classification Report\n",
    "print(\"\\nClassification Report:\")\n",
    "print(classification_report(all_labels, all_preds))\n",
    "\n",
    "# Confusion Matrix\n",
    "cm = confusion_matrix(all_labels, all_preds)\n",
    "disp = ConfusionMatrixDisplay(confusion_matrix=cm, display_labels=[0, 1])\n",
    "disp.plot(cmap=plt.cm.Blues)\n",
    "plt.title(\"Confusion Matrix\")\n",
    "plt.show()\n"
   ]
  },
  {
   "cell_type": "markdown",
   "id": "heavy-presentation",
   "metadata": {
    "papermill": {
     "duration": 0.049479,
     "end_time": "2021-05-11T11:11:03.693643",
     "exception": false,
     "start_time": "2021-05-11T11:11:03.644164",
     "status": "completed"
    },
    "tags": []
   },
   "source": [
    "### Inference"
   ]
  },
  {
   "cell_type": "code",
   "execution_count": 44,
   "id": "b559ce1e",
   "metadata": {},
   "outputs": [
    {
     "name": "stderr",
     "output_type": "stream",
     "text": [
      "/var/folders/d_/hbbmyzcj0pgdfpjpqk7j47cm0000gn/T/ipykernel_71603/2429805742.py:6: FutureWarning: You are using `torch.load` with `weights_only=False` (the current default value), which uses the default pickle module implicitly. It is possible to construct malicious pickle data which will execute arbitrary code during unpickling (See https://github.com/pytorch/pytorch/blob/main/SECURITY.md#untrusted-models for more details). In a future release, the default value for `weights_only` will be flipped to `True`. This limits the functions that could be executed during unpickling. Arbitrary objects will no longer be allowed to be loaded via this mode unless they are explicitly allowlisted by the user via `torch.serialization.add_safe_globals`. We recommend you start setting `weights_only=True` for any use case where you don't have full control of the loaded file. Please open an issue on GitHub for any issues related to this experimental feature.\n",
      "  checkpoint = torch.load(model_path)\n"
     ]
    },
    {
     "name": "stdout",
     "output_type": "stream",
     "text": [
      "Sentiment: Positive\n",
      "Sentiment Score: 0.6369\n"
     ]
    }
   ],
   "source": [
    "import torch\n",
    "import numpy as np\n",
    "\n",
    "# Load your saved model\n",
    "model_path = 'sentiment_rnn.pth'\n",
    "checkpoint = torch.load(model_path)\n",
    "net.load_state_dict(checkpoint['model_state_dict'])\n",
    "net.eval()\n",
    "\n",
    "# Move to GPU if available\n",
    "if train_on_gpu:\n",
    "    net.cuda()\n",
    "\n",
    "# --- Preprocessing Function ---\n",
    "def preprocess(review, vocab_to_int):\n",
    "    review = review.lower()\n",
    "    word_list = review.split()\n",
    "    num_list = [vocab_to_int[word] for word in word_list if word in vocab_to_int]\n",
    "    return [num_list]  # Return as a list of lists (reviews)\n",
    "\n",
    "# --- Padding Function ---\n",
    "def pad_features(reviews_int, seq_length=200):\n",
    "    features = np.zeros((len(reviews_int), seq_length), dtype=int)\n",
    "    for i, row in enumerate(reviews_int):\n",
    "        review_len = len(row)\n",
    "        if review_len <= seq_length:\n",
    "            zeroes = list(np.zeros(seq_length - review_len))\n",
    "            new = zeroes + row\n",
    "        else:\n",
    "            new = row[:seq_length]\n",
    "        features[i, :] = np.array(new)\n",
    "    return features\n",
    "\n",
    "# --- Inference Function ---\n",
    "def predict(net, test_review, vocab_to_int, seq_length=200):\n",
    "    # Preprocess review\n",
    "    int_review = preprocess(test_review, vocab_to_int)\n",
    "    features = pad_features(int_review, seq_length=seq_length)\n",
    "    features = torch.from_numpy(features)\n",
    "\n",
    "    # Initialize hidden state\n",
    "    net.eval()\n",
    "    val_h = net.init_hidden(1)  # batch size of 1 for single review\n",
    "    val_h = tuple([each.data for each in val_h])\n",
    "\n",
    "    # Move to GPU if available\n",
    "    if train_on_gpu:\n",
    "        features = features.cuda()\n",
    "\n",
    "    # Forward pass to get predictions\n",
    "    output, val_h = net(features, val_h)\n",
    "\n",
    "    # Apply sigmoid activation to get sentiment score between 0 and 1\n",
    "    sentiment_score = torch.sigmoid(output).item()\n",
    "\n",
    "    # Convert score to sentiment prediction\n",
    "    sentiment = \"Positive\" if sentiment_score >= 0.5 else \"Negative\"\n",
    "\n",
    "    return sentiment, sentiment_score\n",
    "\n",
    "# --- Example Usage ---\n",
    "# Assuming 'vocab_to_int' is your pre-built vocabulary dictionary\n",
    "# Example review input\n",
    "test_review = \"The movie was absolutely fantastic and thrilling!\"\n",
    "\n",
    "# Get prediction\n",
    "sentiment, score = predict(net, test_review, vocab_to_int)\n",
    "print(f\"Sentiment: {sentiment}\")\n",
    "print(f\"Sentiment Score: {score:.4f}\")\n"
   ]
  },
  {
   "cell_type": "code",
   "execution_count": null,
   "id": "56a28af0",
   "metadata": {},
   "outputs": [],
   "source": []
  }
 ],
 "metadata": {
  "kernelspec": {
   "display_name": "senti",
   "language": "python",
   "name": "python3"
  },
  "language_info": {
   "codemirror_mode": {
    "name": "ipython",
    "version": 3
   },
   "file_extension": ".py",
   "mimetype": "text/x-python",
   "name": "python",
   "nbconvert_exporter": "python",
   "pygments_lexer": "ipython3",
   "version": "3.8.20"
  },
  "papermill": {
   "default_parameters": {},
   "duration": 253.966236,
   "end_time": "2021-05-11T11:11:07.205562",
   "environment_variables": {},
   "exception": null,
   "input_path": "__notebook__.ipynb",
   "output_path": "__notebook__.ipynb",
   "parameters": {},
   "start_time": "2021-05-11T11:06:53.239326",
   "version": "2.3.3"
  }
 },
 "nbformat": 4,
 "nbformat_minor": 5
}
