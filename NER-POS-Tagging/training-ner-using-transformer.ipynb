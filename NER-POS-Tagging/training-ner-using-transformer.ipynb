{
 "cells": [
  {
   "cell_type": "markdown",
   "id": "81389b37-499e-41d0-b37c-b500a602df46",
   "metadata": {},
   "source": [
    "### Token Classification"
   ]
  },
  {
   "cell_type": "markdown",
   "id": "185c1ae0-0931-4d83-8a66-34b60592c59d",
   "metadata": {},
   "source": [
    "#### Predicting class label for every token present in the input\n",
    "Example - POS Tagging,"
   ]
  },
  {
   "cell_type": "markdown",
   "id": "d9cc2df1-32ca-4cc8-b0eb-528fe53611e1",
   "metadata": {},
   "source": [
    "Transformer library tokenize words into sub-words. But POS tags are provided on per-word-basis.\n",
    "Tokenizer works on whole strings mbut NER /POS datasets are already tokenized into words/punctuation.\n",
    "One more preprocessing technique : Data Collator. \n",
    "Target will be in sequences now in this task"
   ]
  },
  {
   "cell_type": "markdown",
   "id": "98a60173-2187-48ca-ac28-c8508ea00423",
   "metadata": {},
   "source": [
    "### How can we tokenize the input if there are already tokenized into words\n",
    "This is handled in tokenizer class is_split_into_words=True func"
   ]
  },
  {
   "cell_type": "markdown",
   "id": "de11fbfe-01f2-49c5-8dc1-61699ffb9689",
   "metadata": {},
   "source": [
    "## Task : NER"
   ]
  },
  {
   "cell_type": "code",
   "execution_count": 3,
   "id": "f52c2eef-650f-4400-96c4-4304aacf97d3",
   "metadata": {},
   "outputs": [
    {
     "name": "stderr",
     "output_type": "stream",
     "text": [
      "/Users/uzair/nlp/lib/python3.9/site-packages/urllib3/__init__.py:34: NotOpenSSLWarning: urllib3 v2.0 only supports OpenSSL 1.1.1+, currently the 'ssl' module is compiled with 'LibreSSL 2.8.3'. See: https://github.com/urllib3/urllib3/issues/3020\n",
      "  warnings.warn(\n"
     ]
    }
   ],
   "source": [
    "from datasets import load_dataset"
   ]
  },
  {
   "cell_type": "code",
   "execution_count": 5,
   "id": "ede37d32-0465-42bf-adbc-cf8e55132d9f",
   "metadata": {},
   "outputs": [
    {
     "data": {
      "application/vnd.jupyter.widget-view+json": {
       "model_id": "377a53f5ce2a4f98a04a18d837ab95a1",
       "version_major": 2,
       "version_minor": 0
      },
      "text/plain": [
       "Downloading builder script:   0%|          | 0.00/9.57k [00:00<?, ?B/s]"
      ]
     },
     "metadata": {},
     "output_type": "display_data"
    },
    {
     "data": {
      "application/vnd.jupyter.widget-view+json": {
       "model_id": "9f72c59afde94967b664146aeba06416",
       "version_major": 2,
       "version_minor": 0
      },
      "text/plain": [
       "Downloading metadata:   0%|          | 0.00/3.73k [00:00<?, ?B/s]"
      ]
     },
     "metadata": {},
     "output_type": "display_data"
    },
    {
     "data": {
      "application/vnd.jupyter.widget-view+json": {
       "model_id": "f54aa8a0cf5f42f191f9390213ee46c9",
       "version_major": 2,
       "version_minor": 0
      },
      "text/plain": [
       "Downloading readme:   0%|          | 0.00/12.3k [00:00<?, ?B/s]"
      ]
     },
     "metadata": {},
     "output_type": "display_data"
    },
    {
     "data": {
      "application/vnd.jupyter.widget-view+json": {
       "model_id": "86ad16f753c045989717c1c3aa08aed8",
       "version_major": 2,
       "version_minor": 0
      },
      "text/plain": [
       "Downloading data:   0%|          | 0.00/983k [00:00<?, ?B/s]"
      ]
     },
     "metadata": {},
     "output_type": "display_data"
    },
    {
     "data": {
      "application/vnd.jupyter.widget-view+json": {
       "model_id": "0a0ffdcb251b4faa9db19ce693ea30eb",
       "version_major": 2,
       "version_minor": 0
      },
      "text/plain": [
       "Generating train split:   0%|          | 0/14041 [00:00<?, ? examples/s]"
      ]
     },
     "metadata": {},
     "output_type": "display_data"
    },
    {
     "data": {
      "application/vnd.jupyter.widget-view+json": {
       "model_id": "e30100fa23064275aa368adb2d2ef09d",
       "version_major": 2,
       "version_minor": 0
      },
      "text/plain": [
       "Generating validation split:   0%|          | 0/3250 [00:00<?, ? examples/s]"
      ]
     },
     "metadata": {},
     "output_type": "display_data"
    },
    {
     "data": {
      "application/vnd.jupyter.widget-view+json": {
       "model_id": "9af5ba286a3a4e799fda0d4d6301f850",
       "version_major": 2,
       "version_minor": 0
      },
      "text/plain": [
       "Generating test split:   0%|          | 0/3453 [00:00<?, ? examples/s]"
      ]
     },
     "metadata": {},
     "output_type": "display_data"
    }
   ],
   "source": [
    "data = load_dataset(\"conll2003\")"
   ]
  },
  {
   "cell_type": "code",
   "execution_count": 7,
   "id": "de851898-88da-421f-bb8b-58baa6f8dfea",
   "metadata": {},
   "outputs": [
    {
     "data": {
      "text/plain": [
       "DatasetDict({\n",
       "    train: Dataset({\n",
       "        features: ['id', 'tokens', 'pos_tags', 'chunk_tags', 'ner_tags'],\n",
       "        num_rows: 14041\n",
       "    })\n",
       "    validation: Dataset({\n",
       "        features: ['id', 'tokens', 'pos_tags', 'chunk_tags', 'ner_tags'],\n",
       "        num_rows: 3250\n",
       "    })\n",
       "    test: Dataset({\n",
       "        features: ['id', 'tokens', 'pos_tags', 'chunk_tags', 'ner_tags'],\n",
       "        num_rows: 3453\n",
       "    })\n",
       "})"
      ]
     },
     "execution_count": 7,
     "metadata": {},
     "output_type": "execute_result"
    }
   ],
   "source": [
    "data"
   ]
  },
  {
   "cell_type": "code",
   "execution_count": 12,
   "id": "5c30df99-1bb8-4e8b-b503-d2e8476975a5",
   "metadata": {},
   "outputs": [
    {
     "data": {
      "text/plain": [
       "{'id': Value(dtype='string', id=None),\n",
       " 'tokens': Sequence(feature=Value(dtype='string', id=None), length=-1, id=None),\n",
       " 'pos_tags': Sequence(feature=ClassLabel(names=['\"', \"''\", '#', '$', '(', ')', ',', '.', ':', '``', 'CC', 'CD', 'DT', 'EX', 'FW', 'IN', 'JJ', 'JJR', 'JJS', 'LS', 'MD', 'NN', 'NNP', 'NNPS', 'NNS', 'NN|SYM', 'PDT', 'POS', 'PRP', 'PRP$', 'RB', 'RBR', 'RBS', 'RP', 'SYM', 'TO', 'UH', 'VB', 'VBD', 'VBG', 'VBN', 'VBP', 'VBZ', 'WDT', 'WP', 'WP$', 'WRB'], id=None), length=-1, id=None),\n",
       " 'chunk_tags': Sequence(feature=ClassLabel(names=['O', 'B-ADJP', 'I-ADJP', 'B-ADVP', 'I-ADVP', 'B-CONJP', 'I-CONJP', 'B-INTJ', 'I-INTJ', 'B-LST', 'I-LST', 'B-NP', 'I-NP', 'B-PP', 'I-PP', 'B-PRT', 'I-PRT', 'B-SBAR', 'I-SBAR', 'B-UCP', 'I-UCP', 'B-VP', 'I-VP'], id=None), length=-1, id=None),\n",
       " 'ner_tags': Sequence(feature=ClassLabel(names=['O', 'B-PER', 'I-PER', 'B-ORG', 'I-ORG', 'B-LOC', 'I-LOC', 'B-MISC', 'I-MISC'], id=None), length=-1, id=None)}"
      ]
     },
     "execution_count": 12,
     "metadata": {},
     "output_type": "execute_result"
    }
   ],
   "source": [
    "data['train'].features"
   ]
  },
  {
   "cell_type": "code",
   "execution_count": 13,
   "id": "cb56ba84-41ce-4fa0-9c3f-95525a73fd03",
   "metadata": {},
   "outputs": [
    {
     "data": {
      "text/plain": [
       "Sequence(feature=ClassLabel(names=['O', 'B-PER', 'I-PER', 'B-ORG', 'I-ORG', 'B-LOC', 'I-LOC', 'B-MISC', 'I-MISC'], id=None), length=-1, id=None)"
      ]
     },
     "execution_count": 13,
     "metadata": {},
     "output_type": "execute_result"
    }
   ],
   "source": [
    "data['train'].features['ner_tags']"
   ]
  },
  {
   "cell_type": "code",
   "execution_count": 15,
   "id": "30ea7a95-e0ac-4f75-8657-5c7c53e9f119",
   "metadata": {},
   "outputs": [],
   "source": [
    "label_names=data['train'].features['ner_tags'].feature.names"
   ]
  },
  {
   "cell_type": "code",
   "execution_count": 16,
   "id": "19f74ca0-5957-468c-8ba7-877d7b80f041",
   "metadata": {},
   "outputs": [
    {
     "data": {
      "text/plain": [
       "['O', 'B-PER', 'I-PER', 'B-ORG', 'I-ORG', 'B-LOC', 'I-LOC', 'B-MISC', 'I-MISC']"
      ]
     },
     "execution_count": 16,
     "metadata": {},
     "output_type": "execute_result"
    }
   ],
   "source": [
    "label_names"
   ]
  },
  {
   "cell_type": "code",
   "execution_count": 20,
   "id": "b10175d8-b400-46f3-afda-f1160d26b560",
   "metadata": {},
   "outputs": [],
   "source": [
    "from transformers import AutoTokenizer"
   ]
  },
  {
   "cell_type": "code",
   "execution_count": 19,
   "id": "73020e60-5f71-45df-bebe-be34d62bab7d",
   "metadata": {},
   "outputs": [],
   "source": [
    "checkpoint = 'distilbert-base-cased'"
   ]
  },
  {
   "cell_type": "code",
   "execution_count": 21,
   "id": "02f4bc3d-147a-45c8-9208-b6c7d2c8ebc2",
   "metadata": {},
   "outputs": [],
   "source": [
    "tokenizer= AutoTokenizer.from_pretrained(checkpoint)"
   ]
  },
  {
   "cell_type": "code",
   "execution_count": 23,
   "id": "2f48cb35",
   "metadata": {},
   "outputs": [
    {
     "data": {
      "text/plain": [
       "['EU', 'rejects', 'German', 'call', 'to', 'boycott', 'British', 'lamb', '.']"
      ]
     },
     "execution_count": 23,
     "metadata": {},
     "output_type": "execute_result"
    }
   ],
   "source": [
    "data['train'][0]['tokens']"
   ]
  },
  {
   "cell_type": "markdown",
   "id": "bcff461c",
   "metadata": {},
   "source": [
    "### Tokenize the inputs"
   ]
  },
  {
   "cell_type": "code",
   "execution_count": 25,
   "id": "89a6ac04",
   "metadata": {},
   "outputs": [],
   "source": [
    "# Now tokenize the inputs \n",
    "idx = 0\n",
    "t = tokenizer(data['train'][idx]['tokens'], is_split_into_words=True)"
   ]
  },
  {
   "cell_type": "code",
   "execution_count": 27,
   "id": "883bb32c",
   "metadata": {},
   "outputs": [
    {
     "data": {
      "text/plain": [
       "['[CLS]',\n",
       " 'EU',\n",
       " 'rejects',\n",
       " 'German',\n",
       " 'call',\n",
       " 'to',\n",
       " 'boycott',\n",
       " 'British',\n",
       " 'la',\n",
       " '##mb',\n",
       " '.',\n",
       " '[SEP]']"
      ]
     },
     "execution_count": 27,
     "metadata": {},
     "output_type": "execute_result"
    }
   ],
   "source": [
    "t.tokens()\n"
   ]
  },
  {
   "cell_type": "code",
   "execution_count": 28,
   "id": "8e4f3333",
   "metadata": {},
   "outputs": [
    {
     "data": {
      "text/plain": [
       "[None, 0, 1, 2, 3, 4, 5, 6, 7, 7, 8, None]"
      ]
     },
     "execution_count": 28,
     "metadata": {},
     "output_type": "execute_result"
    }
   ],
   "source": [
    "t.word_ids()"
   ]
  },
  {
   "cell_type": "markdown",
   "id": "bd829512",
   "metadata": {},
   "source": [
    "### Aligining Targets to Tokens"
   ]
  },
  {
   "cell_type": "markdown",
   "id": "c9735d71",
   "metadata": {},
   "source": [
    "For any word split into multiple tokens, we assign the same target"
   ]
  },
  {
   "cell_type": "markdown",
   "id": "3f3802d5",
   "metadata": {},
   "source": [
    "Use coding to align the targets to tokens"
   ]
  },
  {
   "cell_type": "code",
   "execution_count": 32,
   "id": "9ba138c7",
   "metadata": {},
   "outputs": [],
   "source": [
    "def align_targets(labels,word_ids):\n",
    "    aligned_labels = []\n",
    "    last_word = None\n",
    "    for word in word_ids:\n",
    "        if word is None:\n",
    "            label = -100 # It is a token like [CLS] # Special word token\n",
    "        elif word != last_word:\n",
    "            label = labels[word]  # means it is a new word\n",
    "        else:\n",
    "            label = labels[word]\n",
    "            # change b-tags to i-tags\n",
    "            # if label in begin2inside:\n",
    "            #     label = begin2inside[label]\n",
    "        aligned_labels.append(label)\n",
    "        last_word = word # update last word\n",
    "    return aligned_labels"
   ]
  },
  {
   "cell_type": "code",
   "execution_count": 41,
   "id": "b7c39540",
   "metadata": {},
   "outputs": [
    {
     "data": {
      "text/plain": [
       "[-100, 3, 0, 7, 0, 0, 0, 7, 0, 0, 0, -100]"
      ]
     },
     "execution_count": 41,
     "metadata": {},
     "output_type": "execute_result"
    }
   ],
   "source": [
    "# try aligining the targets\n",
    "labels = data['train'][idx]['ner_tags']\n",
    "word_ids = t.word_ids()\n",
    "aligned_targets = align_targets(labels=labels,word_ids=word_ids,)\n",
    "aligned_targets"
   ]
  },
  {
   "cell_type": "markdown",
   "id": "11af7245",
   "metadata": {},
   "source": [
    "### Mapping tokenizer to Dataset"
   ]
  },
  {
   "cell_type": "code",
   "execution_count": 34,
   "id": "138995e8",
   "metadata": {},
   "outputs": [],
   "source": [
    "def tokenize_func(batch):\n",
    "    tokenized_input = tokenizer(\n",
    "        batch['tokens'],truncation=True,is_split_into_words=True\n",
    "    )\n",
    "    labels_batch = batch['ner_tags'] # original targets\n",
    "    aligned_labels_batch = [] # aligned targets\n",
    "    for i,labels in enumerate(labels_batch):\n",
    "        word_ids = tokenized_input.word_ids(i)\n",
    "        aligned_labels_batch.append(align_targets(labels,word_ids))\n",
    "    tokenized_input['labels'] = aligned_labels_batch\n",
    "    return tokenized_input\n",
    "\n"
   ]
  },
  {
   "cell_type": "code",
   "execution_count": 36,
   "id": "9dd6ea2d",
   "metadata": {},
   "outputs": [
    {
     "data": {
      "application/vnd.jupyter.widget-view+json": {
       "model_id": "937114dc6ed745f69fcc41eaaeffa424",
       "version_major": 2,
       "version_minor": 0
      },
      "text/plain": [
       "Map:   0%|          | 0/14041 [00:00<?, ? examples/s]"
      ]
     },
     "metadata": {},
     "output_type": "display_data"
    },
    {
     "data": {
      "application/vnd.jupyter.widget-view+json": {
       "model_id": "2d117599bedb4230936400b9300570f6",
       "version_major": 2,
       "version_minor": 0
      },
      "text/plain": [
       "Map:   0%|          | 0/3250 [00:00<?, ? examples/s]"
      ]
     },
     "metadata": {},
     "output_type": "display_data"
    },
    {
     "data": {
      "application/vnd.jupyter.widget-view+json": {
       "model_id": "3b0f78ad57144e939a5c15bee6e4c698",
       "version_major": 2,
       "version_minor": 0
      },
      "text/plain": [
       "Map:   0%|          | 0/3453 [00:00<?, ? examples/s]"
      ]
     },
     "metadata": {},
     "output_type": "display_data"
    }
   ],
   "source": [
    "tokenized_datasets = data.map(tokenize_func,batched=True,remove_columns=data['train'].column_names)"
   ]
  },
  {
   "cell_type": "code",
   "execution_count": 42,
   "id": "26c85587",
   "metadata": {},
   "outputs": [
    {
     "data": {
      "text/plain": [
       "DatasetDict({\n",
       "    train: Dataset({\n",
       "        features: ['input_ids', 'attention_mask', 'labels'],\n",
       "        num_rows: 14041\n",
       "    })\n",
       "    validation: Dataset({\n",
       "        features: ['input_ids', 'attention_mask', 'labels'],\n",
       "        num_rows: 3250\n",
       "    })\n",
       "    test: Dataset({\n",
       "        features: ['input_ids', 'attention_mask', 'labels'],\n",
       "        num_rows: 3453\n",
       "    })\n",
       "})"
      ]
     },
     "execution_count": 42,
     "metadata": {},
     "output_type": "execute_result"
    }
   ],
   "source": [
    "tokenized_datasets"
   ]
  },
  {
   "cell_type": "markdown",
   "id": "ac35ee66",
   "metadata": {},
   "source": [
    "### Use DataCollator Now "
   ]
  },
  {
   "cell_type": "code",
   "execution_count": 43,
   "id": "19d01be2",
   "metadata": {},
   "outputs": [
    {
     "name": "stderr",
     "output_type": "stream",
     "text": [
      "huggingface/tokenizers: The current process just got forked, after parallelism has already been used. Disabling parallelism to avoid deadlocks...\n",
      "To disable this warning, you can either:\n",
      "\t- Avoid using `tokenizers` before the fork if possible\n",
      "\t- Explicitly set the environment variable TOKENIZERS_PARALLELISM=(true | false)\n"
     ]
    }
   ],
   "source": [
    "from transformers import DataCollatorForTokenClassification"
   ]
  },
  {
   "cell_type": "code",
   "execution_count": 48,
   "id": "f1a279d8",
   "metadata": {},
   "outputs": [],
   "source": [
    "data_collator = DataCollatorForTokenClassification(tokenizer=tokenizer)"
   ]
  },
  {
   "cell_type": "code",
   "execution_count": 49,
   "id": "66ff87ac",
   "metadata": {},
   "outputs": [
    {
     "data": {
      "text/plain": [
       "Dataset({\n",
       "    features: ['input_ids', 'attention_mask', 'labels'],\n",
       "    num_rows: 14041\n",
       "})"
      ]
     },
     "execution_count": 49,
     "metadata": {},
     "output_type": "execute_result"
    }
   ],
   "source": [
    "tokenized_datasets['train']"
   ]
  },
  {
   "cell_type": "code",
   "execution_count": 50,
   "id": "391dd2c9",
   "metadata": {},
   "outputs": [
    {
     "name": "stderr",
     "output_type": "stream",
     "text": [
      "You're using a DistilBertTokenizerFast tokenizer. Please note that with a fast tokenizer, using the `__call__` method is faster than using a method to encode the text followed by a call to the `pad` method to get a padded encoding.\n"
     ]
    }
   ],
   "source": [
    "batch = data_collator([tokenized_datasets[\"train\"][i] for i in range(2)])"
   ]
  },
  {
   "cell_type": "markdown",
   "id": "d1429f46",
   "metadata": {},
   "source": [
    "### Compute Metric For Token Classification Tasks"
   ]
  },
  {
   "cell_type": "code",
   "execution_count": 53,
   "id": "5d2802ea",
   "metadata": {},
   "outputs": [],
   "source": [
    "from datasets import load_metric"
   ]
  },
  {
   "cell_type": "code",
   "execution_count": 54,
   "id": "2aed6de6",
   "metadata": {},
   "outputs": [
    {
     "name": "stderr",
     "output_type": "stream",
     "text": [
      "/var/folders/kx/93cyr5993_j85nmkjddzk5lw0000gn/T/ipykernel_21083/152412463.py:1: FutureWarning: load_metric is deprecated and will be removed in the next major version of datasets. Use 'evaluate.load' instead, from the new library 🤗 Evaluate: https://huggingface.co/docs/evaluate\n",
      "  metric = load_metric(\"seqeval\")\n"
     ]
    },
    {
     "data": {
      "application/vnd.jupyter.widget-view+json": {
       "model_id": "df95ef09aa6748fcbc347d6c993743df",
       "version_major": 2,
       "version_minor": 0
      },
      "text/plain": [
       "Downloading builder script:   0%|          | 0.00/2.47k [00:00<?, ?B/s]"
      ]
     },
     "metadata": {},
     "output_type": "display_data"
    }
   ],
   "source": [
    "metric = load_metric(\"seqeval\")"
   ]
  },
  {
   "cell_type": "code",
   "execution_count": 55,
   "id": "bdcdcd05",
   "metadata": {},
   "outputs": [],
   "source": [
    "import numpy as np"
   ]
  },
  {
   "cell_type": "code",
   "execution_count": 85,
   "id": "b651b7ac",
   "metadata": {},
   "outputs": [],
   "source": [
    "def compute_metric(logits_and_labels):\n",
    "    logits,labels = logits_and_labels\n",
    "    preds = np.argmax(logits,axis=-1)\n",
    "\n",
    "    # remove -100 from labels and predictions\n",
    "    # convert label ids to label names\n",
    "    str_labels = [\n",
    "        [label_names[t] for t in label if t!=-100] for label in labels\n",
    "    ]\n",
    "\n",
    "    str_preds = [\n",
    "        [label_names[p] for p,t in zip(pred,targ) if t!=-100] for pred,targ in zip(preds,labels)\n",
    "    ]\n",
    "\n",
    "    the_metrics = metric.compute(predictions=str_preds,references=str_labels)\n",
    "\n",
    "    return {\n",
    "        \"precision\": the_metrics['overall_precision'],\n",
    "        \"recall\": the_metrics['overall_recall'],\n",
    "        \"f1\":the_metrics[\"overall_f1\"],\n",
    "        \"accuracy\": the_metrics['overall_accuracy'],\n",
    "        \n",
    "    }"
   ]
  },
  {
   "cell_type": "code",
   "execution_count": 86,
   "id": "2fc0f575",
   "metadata": {},
   "outputs": [],
   "source": [
    "id2label={k:v for k,v in enumerate(label_names)}\n",
    "label2id = {v:k for k,v in id2label.items()}"
   ]
  },
  {
   "cell_type": "code",
   "execution_count": 87,
   "id": "45adc938",
   "metadata": {},
   "outputs": [],
   "source": [
    "from transformers import AutoModelForTokenClassification"
   ]
  },
  {
   "cell_type": "code",
   "execution_count": 88,
   "id": "83f68ca9",
   "metadata": {},
   "outputs": [
    {
     "name": "stderr",
     "output_type": "stream",
     "text": [
      "Some weights of DistilBertForTokenClassification were not initialized from the model checkpoint at distilbert-base-cased and are newly initialized: ['classifier.weight', 'classifier.bias']\n",
      "You should probably TRAIN this model on a down-stream task to be able to use it for predictions and inference.\n"
     ]
    }
   ],
   "source": [
    "model = AutoModelForTokenClassification.from_pretrained(checkpoint,\n",
    "                                                        id2label=id2label,\n",
    "                                                        label2id=label2id)"
   ]
  },
  {
   "cell_type": "code",
   "execution_count": 89,
   "id": "d37c53df",
   "metadata": {},
   "outputs": [],
   "source": [
    "from transformers import TrainingArguments,Trainer"
   ]
  },
  {
   "cell_type": "code",
   "execution_count": 90,
   "id": "40ea7ae2",
   "metadata": {},
   "outputs": [],
   "source": [
    "training_args = TrainingArguments(\n",
    "    output_dir=\"distilbert-finetuned-ner\",\n",
    "    evaluation_strategy='epoch',\n",
    "    save_strategy='epoch',\n",
    "    learning_rate=2e-5,\n",
    "    num_train_epochs=1,\n",
    "    weight_decay=0.01\n",
    "\n",
    ")"
   ]
  },
  {
   "cell_type": "code",
   "execution_count": 91,
   "id": "532a1ee2",
   "metadata": {},
   "outputs": [],
   "source": [
    "trainer = Trainer(\n",
    "    args=training_args,\n",
    "    model=model,\n",
    "    train_dataset=tokenized_datasets['train'],\n",
    "    eval_dataset=tokenized_datasets['test'],\n",
    "    data_collator=data_collator,\n",
    "    tokenizer=tokenizer,\n",
    "    compute_metrics=compute_metric\n",
    ")"
   ]
  },
  {
   "cell_type": "code",
   "execution_count": 93,
   "id": "16feac18",
   "metadata": {},
   "outputs": [
    {
     "data": {
      "text/html": [
       "\n",
       "    <div>\n",
       "      \n",
       "      <progress value='1756' max='1756' style='width:300px; height:20px; vertical-align: middle;'></progress>\n",
       "      [1756/1756 08:55, Epoch 1/1]\n",
       "    </div>\n",
       "    <table border=\"1\" class=\"dataframe\">\n",
       "  <thead>\n",
       " <tr style=\"text-align: left;\">\n",
       "      <th>Epoch</th>\n",
       "      <th>Training Loss</th>\n",
       "      <th>Validation Loss</th>\n",
       "      <th>Precision</th>\n",
       "      <th>Recall</th>\n",
       "      <th>F1</th>\n",
       "      <th>Accuracy</th>\n",
       "    </tr>\n",
       "  </thead>\n",
       "  <tbody>\n",
       "    <tr>\n",
       "      <td>1</td>\n",
       "      <td>0.049000</td>\n",
       "      <td>0.093633</td>\n",
       "      <td>0.855654</td>\n",
       "      <td>0.868355</td>\n",
       "      <td>0.861958</td>\n",
       "      <td>0.960070</td>\n",
       "    </tr>\n",
       "  </tbody>\n",
       "</table><p>"
      ],
      "text/plain": [
       "<IPython.core.display.HTML object>"
      ]
     },
     "metadata": {},
     "output_type": "display_data"
    },
    {
     "data": {
      "text/plain": [
       "TrainOutput(global_step=1756, training_loss=0.08058667780326548, metrics={'train_runtime': 536.7242, 'train_samples_per_second': 26.161, 'train_steps_per_second': 3.272, 'total_flos': 154190936839842.0, 'train_loss': 0.08058667780326548, 'epoch': 1.0})"
      ]
     },
     "execution_count": 93,
     "metadata": {},
     "output_type": "execute_result"
    }
   ],
   "source": [
    "trainer.train()"
   ]
  },
  {
   "cell_type": "code",
   "execution_count": null,
   "id": "e916653e",
   "metadata": {},
   "outputs": [],
   "source": [
    "trainer.save_model(\"ner_model_v0.1\")"
   ]
  },
  {
   "cell_type": "code",
   "execution_count": null,
   "id": "2ab98d3f",
   "metadata": {},
   "outputs": [],
   "source": []
  }
 ],
 "metadata": {
  "kernelspec": {
   "display_name": "Python 3 (ipykernel)",
   "language": "python",
   "name": "python3"
  },
  "widgets": {
   "application/vnd.jupyter.widget-state+json": {
    "state": {
     "00f74b28291f4c74bb00b67860cea8cd": {
      "model_module": "@jupyter-widgets/controls",
      "model_module_version": "2.0.0",
      "model_name": "ProgressStyleModel",
      "state": {
       "description_width": ""
      }
     },
     "0a0ffdcb251b4faa9db19ce693ea30eb": {
      "model_module": "@jupyter-widgets/controls",
      "model_module_version": "2.0.0",
      "model_name": "HBoxModel",
      "state": {
       "children": [
        "IPY_MODEL_bb4c11fa103b4dc99d47c7dd79ece64b",
        "IPY_MODEL_700be04d1abf40c58086f5fb3dbe4d05",
        "IPY_MODEL_7182d584a42046209c6d72fd42cf1a04"
       ],
       "layout": "IPY_MODEL_96d21603a7a2423fadb140f7e89b6da2"
      }
     },
     "0dcf64d0ebea4fcd82afe8b02e4917ca": {
      "model_module": "@jupyter-widgets/base",
      "model_module_version": "2.0.0",
      "model_name": "LayoutModel",
      "state": {}
     },
     "15b2492b417244d494126c150130726d": {
      "model_module": "@jupyter-widgets/controls",
      "model_module_version": "2.0.0",
      "model_name": "HTMLModel",
      "state": {
       "layout": "IPY_MODEL_ca7e147f346b41adb0e03e95a0420758",
       "style": "IPY_MODEL_3348025a211e4f61a104bcec43edad1a",
       "value": " 3250/3250 [00:00&lt;00:00, 10969.95 examples/s]"
      }
     },
     "17eb68fa4dbc43f0a1a6ee9fb1eef8a6": {
      "model_module": "@jupyter-widgets/base",
      "model_module_version": "2.0.0",
      "model_name": "LayoutModel",
      "state": {}
     },
     "1a2c5979f6f04e7e86a7d3190bd7a1ff": {
      "model_module": "@jupyter-widgets/controls",
      "model_module_version": "2.0.0",
      "model_name": "HTMLModel",
      "state": {
       "layout": "IPY_MODEL_2a4ebd26957348738491d66cb53a69fb",
       "style": "IPY_MODEL_7330eda3d2114fb08c42db3ca1dbef72",
       "value": "Downloading builder script: 100%"
      }
     },
     "1fc82ceebd86456a9a7e224e20e6608b": {
      "model_module": "@jupyter-widgets/base",
      "model_module_version": "2.0.0",
      "model_name": "LayoutModel",
      "state": {}
     },
     "21fdbdf2da7c437aa826b4206a63bff8": {
      "model_module": "@jupyter-widgets/controls",
      "model_module_version": "2.0.0",
      "model_name": "HTMLStyleModel",
      "state": {
       "description_width": "",
       "font_size": null,
       "text_color": null
      }
     },
     "24f2f178a9334f48ba23d7bb1476639c": {
      "model_module": "@jupyter-widgets/base",
      "model_module_version": "2.0.0",
      "model_name": "LayoutModel",
      "state": {}
     },
     "2a4ebd26957348738491d66cb53a69fb": {
      "model_module": "@jupyter-widgets/base",
      "model_module_version": "2.0.0",
      "model_name": "LayoutModel",
      "state": {}
     },
     "2d461e2612cc4adb8902653b7f7f8420": {
      "model_module": "@jupyter-widgets/base",
      "model_module_version": "2.0.0",
      "model_name": "LayoutModel",
      "state": {}
     },
     "3348025a211e4f61a104bcec43edad1a": {
      "model_module": "@jupyter-widgets/controls",
      "model_module_version": "2.0.0",
      "model_name": "HTMLStyleModel",
      "state": {
       "description_width": "",
       "font_size": null,
       "text_color": null
      }
     },
     "35f6fd9e32074b159998e7d982fcfa17": {
      "model_module": "@jupyter-widgets/controls",
      "model_module_version": "2.0.0",
      "model_name": "HTMLModel",
      "state": {
       "layout": "IPY_MODEL_80d1117bf0884efea70ac734479209bb",
       "style": "IPY_MODEL_21fdbdf2da7c437aa826b4206a63bff8",
       "value": " 9.57k/9.57k [00:00&lt;00:00, 487kB/s]"
      }
     },
     "3662fa6cf1c342d19cbb39fa02b2f5d9": {
      "model_module": "@jupyter-widgets/base",
      "model_module_version": "2.0.0",
      "model_name": "LayoutModel",
      "state": {}
     },
     "377a53f5ce2a4f98a04a18d837ab95a1": {
      "model_module": "@jupyter-widgets/controls",
      "model_module_version": "2.0.0",
      "model_name": "HBoxModel",
      "state": {
       "children": [
        "IPY_MODEL_1a2c5979f6f04e7e86a7d3190bd7a1ff",
        "IPY_MODEL_460379f017484cc2b079c10221cd1f28",
        "IPY_MODEL_35f6fd9e32074b159998e7d982fcfa17"
       ],
       "layout": "IPY_MODEL_ce68b0831f6144d88d44ef0b4e3d01a9"
      }
     },
     "39810eb93c3d41b396f68b94cd40d855": {
      "model_module": "@jupyter-widgets/controls",
      "model_module_version": "2.0.0",
      "model_name": "HTMLStyleModel",
      "state": {
       "description_width": "",
       "font_size": null,
       "text_color": null
      }
     },
     "3b7e5773926f43c59aaa76b76e3bc82c": {
      "model_module": "@jupyter-widgets/controls",
      "model_module_version": "2.0.0",
      "model_name": "HTMLStyleModel",
      "state": {
       "description_width": "",
       "font_size": null,
       "text_color": null
      }
     },
     "3eb6d7d551da412698b3e41b9158838d": {
      "model_module": "@jupyter-widgets/controls",
      "model_module_version": "2.0.0",
      "model_name": "FloatProgressModel",
      "state": {
       "bar_style": "success",
       "layout": "IPY_MODEL_88395fd7f5ec4d45b132c8582954abb6",
       "max": 12330,
       "style": "IPY_MODEL_80112e1a69e74e39866403cf837f439c",
       "value": 12330
      }
     },
     "42d85535ff5746eca426f706cd7178db": {
      "model_module": "@jupyter-widgets/controls",
      "model_module_version": "2.0.0",
      "model_name": "HTMLStyleModel",
      "state": {
       "description_width": "",
       "font_size": null,
       "text_color": null
      }
     },
     "430f3ace5d014422a30c93691fb22af4": {
      "model_module": "@jupyter-widgets/base",
      "model_module_version": "2.0.0",
      "model_name": "LayoutModel",
      "state": {}
     },
     "460379f017484cc2b079c10221cd1f28": {
      "model_module": "@jupyter-widgets/controls",
      "model_module_version": "2.0.0",
      "model_name": "FloatProgressModel",
      "state": {
       "bar_style": "success",
       "layout": "IPY_MODEL_430f3ace5d014422a30c93691fb22af4",
       "max": 9570,
       "style": "IPY_MODEL_00f74b28291f4c74bb00b67860cea8cd",
       "value": 9570
      }
     },
     "46379fa6871f45b28b9f9079a719e571": {
      "model_module": "@jupyter-widgets/controls",
      "model_module_version": "2.0.0",
      "model_name": "HTMLModel",
      "state": {
       "layout": "IPY_MODEL_97c86ca8356c4a29beed39ae41645fbb",
       "style": "IPY_MODEL_dbaa228c84c84e74bf8ddeb99e9dbd47",
       "value": "Downloading metadata: 100%"
      }
     },
     "46db35ab59184372b5a7917e212d7693": {
      "model_module": "@jupyter-widgets/base",
      "model_module_version": "2.0.0",
      "model_name": "LayoutModel",
      "state": {}
     },
     "4a6338fd780c499297a7595928ef29b2": {
      "model_module": "@jupyter-widgets/base",
      "model_module_version": "2.0.0",
      "model_name": "LayoutModel",
      "state": {}
     },
     "4d45d94ae77b45d0a7bf193a52f43010": {
      "model_module": "@jupyter-widgets/controls",
      "model_module_version": "2.0.0",
      "model_name": "HTMLStyleModel",
      "state": {
       "description_width": "",
       "font_size": null,
       "text_color": null
      }
     },
     "532e5b3b6139473e9db1d9edfe3e7352": {
      "model_module": "@jupyter-widgets/controls",
      "model_module_version": "2.0.0",
      "model_name": "FloatProgressModel",
      "state": {
       "bar_style": "success",
       "layout": "IPY_MODEL_ee84e399264d4b9faf29906a8b731f7b",
       "max": 3735,
       "style": "IPY_MODEL_a3144ce138824fd3bcf9c23aa728b650",
       "value": 3735
      }
     },
     "560d3be36ddc4fe2bcfa3e0b8d60fc3b": {
      "model_module": "@jupyter-widgets/controls",
      "model_module_version": "2.0.0",
      "model_name": "ProgressStyleModel",
      "state": {
       "description_width": ""
      }
     },
     "5941a3cc948844d9a8ffccbdf5c64043": {
      "model_module": "@jupyter-widgets/base",
      "model_module_version": "2.0.0",
      "model_name": "LayoutModel",
      "state": {}
     },
     "5a61409f737c4b5eba67b5df094c705e": {
      "model_module": "@jupyter-widgets/base",
      "model_module_version": "2.0.0",
      "model_name": "LayoutModel",
      "state": {}
     },
     "5b19794f6d614d5c9211208f29cd6cd5": {
      "model_module": "@jupyter-widgets/controls",
      "model_module_version": "2.0.0",
      "model_name": "HTMLModel",
      "state": {
       "layout": "IPY_MODEL_2d461e2612cc4adb8902653b7f7f8420",
       "style": "IPY_MODEL_4d45d94ae77b45d0a7bf193a52f43010",
       "value": "Computing checksums: 100%"
      }
     },
     "5d4da1f222ad4287a44d89e8f53da8e6": {
      "model_module": "@jupyter-widgets/controls",
      "model_module_version": "2.0.0",
      "model_name": "ProgressStyleModel",
      "state": {
       "description_width": ""
      }
     },
     "61b2f5dc4445496f8a8b73352ec3f945": {
      "model_module": "@jupyter-widgets/controls",
      "model_module_version": "2.0.0",
      "model_name": "HTMLStyleModel",
      "state": {
       "description_width": "",
       "font_size": null,
       "text_color": null
      }
     },
     "6b44451eda4941a388dd55b04cc639b7": {
      "model_module": "@jupyter-widgets/controls",
      "model_module_version": "2.0.0",
      "model_name": "HBoxModel",
      "state": {
       "children": [
        "IPY_MODEL_5b19794f6d614d5c9211208f29cd6cd5",
        "IPY_MODEL_92ce6af1a6d74e78a384a8cedd17ccfd",
        "IPY_MODEL_b2f1b4d42bda4a4ea51068924857af89"
       ],
       "layout": "IPY_MODEL_bbe8a4b3ff7542d78bc74c837feb4124"
      }
     },
     "700be04d1abf40c58086f5fb3dbe4d05": {
      "model_module": "@jupyter-widgets/controls",
      "model_module_version": "2.0.0",
      "model_name": "FloatProgressModel",
      "state": {
       "bar_style": "success",
       "layout": "IPY_MODEL_ba9e23f15a024eee9b29a29070dac57e",
       "max": 14041,
       "style": "IPY_MODEL_a85bd2ab281a4142a6571aac36887c97",
       "value": 14041
      }
     },
     "7182d584a42046209c6d72fd42cf1a04": {
      "model_module": "@jupyter-widgets/controls",
      "model_module_version": "2.0.0",
      "model_name": "HTMLModel",
      "state": {
       "layout": "IPY_MODEL_46db35ab59184372b5a7917e212d7693",
       "style": "IPY_MODEL_ef7b060f19564c9cb60057c6c48c569c",
       "value": " 14041/14041 [00:01&lt;00:00, 10785.51 examples/s]"
      }
     },
     "7330eda3d2114fb08c42db3ca1dbef72": {
      "model_module": "@jupyter-widgets/controls",
      "model_module_version": "2.0.0",
      "model_name": "HTMLStyleModel",
      "state": {
       "description_width": "",
       "font_size": null,
       "text_color": null
      }
     },
     "75ef20f9a4fb4c80aad7603470e39eb7": {
      "model_module": "@jupyter-widgets/controls",
      "model_module_version": "2.0.0",
      "model_name": "HTMLModel",
      "state": {
       "layout": "IPY_MODEL_93e483cc68f049e5bc4a56e946a61c02",
       "style": "IPY_MODEL_39810eb93c3d41b396f68b94cd40d855",
       "value": "Downloading readme: 100%"
      }
     },
     "797ba0ca773849869c333a6287cd1b53": {
      "model_module": "@jupyter-widgets/base",
      "model_module_version": "2.0.0",
      "model_name": "LayoutModel",
      "state": {}
     },
     "7c8e4be4086f4c13bfffc1f4cf6faefd": {
      "model_module": "@jupyter-widgets/controls",
      "model_module_version": "2.0.0",
      "model_name": "HTMLStyleModel",
      "state": {
       "description_width": "",
       "font_size": null,
       "text_color": null
      }
     },
     "7e50c528a8864370af5e74e72d1c7718": {
      "model_module": "@jupyter-widgets/base",
      "model_module_version": "2.0.0",
      "model_name": "LayoutModel",
      "state": {}
     },
     "80112e1a69e74e39866403cf837f439c": {
      "model_module": "@jupyter-widgets/controls",
      "model_module_version": "2.0.0",
      "model_name": "ProgressStyleModel",
      "state": {
       "description_width": ""
      }
     },
     "80d1117bf0884efea70ac734479209bb": {
      "model_module": "@jupyter-widgets/base",
      "model_module_version": "2.0.0",
      "model_name": "LayoutModel",
      "state": {}
     },
     "80f393a5a83c4553981db5a45c59c241": {
      "model_module": "@jupyter-widgets/controls",
      "model_module_version": "2.0.0",
      "model_name": "FloatProgressModel",
      "state": {
       "bar_style": "success",
       "layout": "IPY_MODEL_e6aa91e056b74bbd845f55abdceec2f3",
       "max": 3250,
       "style": "IPY_MODEL_b8ed065fd83e431f8d0cd1a6667ce61e",
       "value": 3250
      }
     },
     "818fc7f06ada4598b6f5f525ea1030f0": {
      "model_module": "@jupyter-widgets/controls",
      "model_module_version": "2.0.0",
      "model_name": "HTMLModel",
      "state": {
       "layout": "IPY_MODEL_ca23bed9a8e242849c6526c9e6a9363d",
       "style": "IPY_MODEL_b98ddb45ce9d46c1aeb6dfb82fda87ca",
       "value": " 12.3k/12.3k [00:00&lt;00:00, 616kB/s]"
      }
     },
     "86ad16f753c045989717c1c3aa08aed8": {
      "model_module": "@jupyter-widgets/controls",
      "model_module_version": "2.0.0",
      "model_name": "HBoxModel",
      "state": {
       "children": [
        "IPY_MODEL_b09c8d96b4714173a15e882287ceab89",
        "IPY_MODEL_a10b120bd5794959ad4ff3349e584b11",
        "IPY_MODEL_dd2e1b17e6d744528aab544ba0482623"
       ],
       "layout": "IPY_MODEL_969049cb676041809acfd9e3ffd1233f"
      }
     },
     "86d34b0fb94848c8ba3e73fa584ed6b5": {
      "model_module": "@jupyter-widgets/controls",
      "model_module_version": "2.0.0",
      "model_name": "HTMLStyleModel",
      "state": {
       "description_width": "",
       "font_size": null,
       "text_color": null
      }
     },
     "87881b206e2b4cd6ac34210adf55c34c": {
      "model_module": "@jupyter-widgets/controls",
      "model_module_version": "2.0.0",
      "model_name": "HTMLStyleModel",
      "state": {
       "description_width": "",
       "font_size": null,
       "text_color": null
      }
     },
     "88395fd7f5ec4d45b132c8582954abb6": {
      "model_module": "@jupyter-widgets/base",
      "model_module_version": "2.0.0",
      "model_name": "LayoutModel",
      "state": {}
     },
     "9005493549b848188aa64b2379790e2e": {
      "model_module": "@jupyter-widgets/controls",
      "model_module_version": "2.0.0",
      "model_name": "FloatProgressModel",
      "state": {
       "bar_style": "success",
       "layout": "IPY_MODEL_9bef3ed015994baf8cea6a7795a19d8a",
       "max": 3453,
       "style": "IPY_MODEL_c27c13b1440042e5ad0a28cde4c04a72",
       "value": 3453
      }
     },
     "92ce6af1a6d74e78a384a8cedd17ccfd": {
      "model_module": "@jupyter-widgets/controls",
      "model_module_version": "2.0.0",
      "model_name": "FloatProgressModel",
      "state": {
       "bar_style": "success",
       "layout": "IPY_MODEL_d54d06e9e7b84af8b022dd59c54b34b8",
       "max": 1,
       "style": "IPY_MODEL_5d4da1f222ad4287a44d89e8f53da8e6",
       "value": 1
      }
     },
     "93e483cc68f049e5bc4a56e946a61c02": {
      "model_module": "@jupyter-widgets/base",
      "model_module_version": "2.0.0",
      "model_name": "LayoutModel",
      "state": {}
     },
     "969049cb676041809acfd9e3ffd1233f": {
      "model_module": "@jupyter-widgets/base",
      "model_module_version": "2.0.0",
      "model_name": "LayoutModel",
      "state": {}
     },
     "96d21603a7a2423fadb140f7e89b6da2": {
      "model_module": "@jupyter-widgets/base",
      "model_module_version": "2.0.0",
      "model_name": "LayoutModel",
      "state": {}
     },
     "97c86ca8356c4a29beed39ae41645fbb": {
      "model_module": "@jupyter-widgets/base",
      "model_module_version": "2.0.0",
      "model_name": "LayoutModel",
      "state": {}
     },
     "9af5ba286a3a4e799fda0d4d6301f850": {
      "model_module": "@jupyter-widgets/controls",
      "model_module_version": "2.0.0",
      "model_name": "HBoxModel",
      "state": {
       "children": [
        "IPY_MODEL_faa2b323133d4abfab52d92facaaf16d",
        "IPY_MODEL_9005493549b848188aa64b2379790e2e",
        "IPY_MODEL_e58ea4958775468fabfdc8d351c73b0c"
       ],
       "layout": "IPY_MODEL_797ba0ca773849869c333a6287cd1b53"
      }
     },
     "9bef3ed015994baf8cea6a7795a19d8a": {
      "model_module": "@jupyter-widgets/base",
      "model_module_version": "2.0.0",
      "model_name": "LayoutModel",
      "state": {}
     },
     "9e376bf72cec4783b16cbdab9104632b": {
      "model_module": "@jupyter-widgets/controls",
      "model_module_version": "2.0.0",
      "model_name": "HTMLModel",
      "state": {
       "layout": "IPY_MODEL_3662fa6cf1c342d19cbb39fa02b2f5d9",
       "style": "IPY_MODEL_3b7e5773926f43c59aaa76b76e3bc82c",
       "value": "Generating validation split: 100%"
      }
     },
     "9f72c59afde94967b664146aeba06416": {
      "model_module": "@jupyter-widgets/controls",
      "model_module_version": "2.0.0",
      "model_name": "HBoxModel",
      "state": {
       "children": [
        "IPY_MODEL_46379fa6871f45b28b9f9079a719e571",
        "IPY_MODEL_532e5b3b6139473e9db1d9edfe3e7352",
        "IPY_MODEL_f24d00f36d4e4903bbb52e9e0bf55925"
       ],
       "layout": "IPY_MODEL_5941a3cc948844d9a8ffccbdf5c64043"
      }
     },
     "a10b120bd5794959ad4ff3349e584b11": {
      "model_module": "@jupyter-widgets/controls",
      "model_module_version": "2.0.0",
      "model_name": "FloatProgressModel",
      "state": {
       "bar_style": "success",
       "layout": "IPY_MODEL_c34f49bb794c458796946e770fc303b6",
       "max": 982975,
       "style": "IPY_MODEL_560d3be36ddc4fe2bcfa3e0b8d60fc3b",
       "value": 982975
      }
     },
     "a3144ce138824fd3bcf9c23aa728b650": {
      "model_module": "@jupyter-widgets/controls",
      "model_module_version": "2.0.0",
      "model_name": "ProgressStyleModel",
      "state": {
       "description_width": ""
      }
     },
     "a85bd2ab281a4142a6571aac36887c97": {
      "model_module": "@jupyter-widgets/controls",
      "model_module_version": "2.0.0",
      "model_name": "ProgressStyleModel",
      "state": {
       "description_width": ""
      }
     },
     "b0784f06dca544d9bee293cb541f36e4": {
      "model_module": "@jupyter-widgets/controls",
      "model_module_version": "2.0.0",
      "model_name": "HTMLStyleModel",
      "state": {
       "description_width": "",
       "font_size": null,
       "text_color": null
      }
     },
     "b09c8d96b4714173a15e882287ceab89": {
      "model_module": "@jupyter-widgets/controls",
      "model_module_version": "2.0.0",
      "model_name": "HTMLModel",
      "state": {
       "layout": "IPY_MODEL_0dcf64d0ebea4fcd82afe8b02e4917ca",
       "style": "IPY_MODEL_dc2b4e947ad8404fa0295940d53b738b",
       "value": "Downloading data: 100%"
      }
     },
     "b2f1b4d42bda4a4ea51068924857af89": {
      "model_module": "@jupyter-widgets/controls",
      "model_module_version": "2.0.0",
      "model_name": "HTMLModel",
      "state": {
       "layout": "IPY_MODEL_1fc82ceebd86456a9a7e224e20e6608b",
       "style": "IPY_MODEL_42d85535ff5746eca426f706cd7178db",
       "value": " 1/1 [00:00&lt;00:00, 117.61it/s]"
      }
     },
     "b8ed065fd83e431f8d0cd1a6667ce61e": {
      "model_module": "@jupyter-widgets/controls",
      "model_module_version": "2.0.0",
      "model_name": "ProgressStyleModel",
      "state": {
       "description_width": ""
      }
     },
     "b98ddb45ce9d46c1aeb6dfb82fda87ca": {
      "model_module": "@jupyter-widgets/controls",
      "model_module_version": "2.0.0",
      "model_name": "HTMLStyleModel",
      "state": {
       "description_width": "",
       "font_size": null,
       "text_color": null
      }
     },
     "ba9e23f15a024eee9b29a29070dac57e": {
      "model_module": "@jupyter-widgets/base",
      "model_module_version": "2.0.0",
      "model_name": "LayoutModel",
      "state": {}
     },
     "bb4c11fa103b4dc99d47c7dd79ece64b": {
      "model_module": "@jupyter-widgets/controls",
      "model_module_version": "2.0.0",
      "model_name": "HTMLModel",
      "state": {
       "layout": "IPY_MODEL_24f2f178a9334f48ba23d7bb1476639c",
       "style": "IPY_MODEL_87881b206e2b4cd6ac34210adf55c34c",
       "value": "Generating train split: 100%"
      }
     },
     "bbe8a4b3ff7542d78bc74c837feb4124": {
      "model_module": "@jupyter-widgets/base",
      "model_module_version": "2.0.0",
      "model_name": "LayoutModel",
      "state": {}
     },
     "c27c13b1440042e5ad0a28cde4c04a72": {
      "model_module": "@jupyter-widgets/controls",
      "model_module_version": "2.0.0",
      "model_name": "ProgressStyleModel",
      "state": {
       "description_width": ""
      }
     },
     "c34f49bb794c458796946e770fc303b6": {
      "model_module": "@jupyter-widgets/base",
      "model_module_version": "2.0.0",
      "model_name": "LayoutModel",
      "state": {}
     },
     "ca23bed9a8e242849c6526c9e6a9363d": {
      "model_module": "@jupyter-widgets/base",
      "model_module_version": "2.0.0",
      "model_name": "LayoutModel",
      "state": {}
     },
     "ca7e147f346b41adb0e03e95a0420758": {
      "model_module": "@jupyter-widgets/base",
      "model_module_version": "2.0.0",
      "model_name": "LayoutModel",
      "state": {}
     },
     "ce68b0831f6144d88d44ef0b4e3d01a9": {
      "model_module": "@jupyter-widgets/base",
      "model_module_version": "2.0.0",
      "model_name": "LayoutModel",
      "state": {}
     },
     "d54d06e9e7b84af8b022dd59c54b34b8": {
      "model_module": "@jupyter-widgets/base",
      "model_module_version": "2.0.0",
      "model_name": "LayoutModel",
      "state": {}
     },
     "d6ee4edeae29460797650c89ec6c3918": {
      "model_module": "@jupyter-widgets/base",
      "model_module_version": "2.0.0",
      "model_name": "LayoutModel",
      "state": {}
     },
     "dbaa228c84c84e74bf8ddeb99e9dbd47": {
      "model_module": "@jupyter-widgets/controls",
      "model_module_version": "2.0.0",
      "model_name": "HTMLStyleModel",
      "state": {
       "description_width": "",
       "font_size": null,
       "text_color": null
      }
     },
     "dc2b4e947ad8404fa0295940d53b738b": {
      "model_module": "@jupyter-widgets/controls",
      "model_module_version": "2.0.0",
      "model_name": "HTMLStyleModel",
      "state": {
       "description_width": "",
       "font_size": null,
       "text_color": null
      }
     },
     "dd2e1b17e6d744528aab544ba0482623": {
      "model_module": "@jupyter-widgets/controls",
      "model_module_version": "2.0.0",
      "model_name": "HTMLModel",
      "state": {
       "layout": "IPY_MODEL_17eb68fa4dbc43f0a1a6ee9fb1eef8a6",
       "style": "IPY_MODEL_7c8e4be4086f4c13bfffc1f4cf6faefd",
       "value": " 983k/983k [00:00&lt;00:00, 3.63MB/s]"
      }
     },
     "e30100fa23064275aa368adb2d2ef09d": {
      "model_module": "@jupyter-widgets/controls",
      "model_module_version": "2.0.0",
      "model_name": "HBoxModel",
      "state": {
       "children": [
        "IPY_MODEL_9e376bf72cec4783b16cbdab9104632b",
        "IPY_MODEL_80f393a5a83c4553981db5a45c59c241",
        "IPY_MODEL_15b2492b417244d494126c150130726d"
       ],
       "layout": "IPY_MODEL_5a61409f737c4b5eba67b5df094c705e"
      }
     },
     "e58ea4958775468fabfdc8d351c73b0c": {
      "model_module": "@jupyter-widgets/controls",
      "model_module_version": "2.0.0",
      "model_name": "HTMLModel",
      "state": {
       "layout": "IPY_MODEL_4a6338fd780c499297a7595928ef29b2",
       "style": "IPY_MODEL_b0784f06dca544d9bee293cb541f36e4",
       "value": " 3453/3453 [00:00&lt;00:00, 11560.10 examples/s]"
      }
     },
     "e6aa91e056b74bbd845f55abdceec2f3": {
      "model_module": "@jupyter-widgets/base",
      "model_module_version": "2.0.0",
      "model_name": "LayoutModel",
      "state": {}
     },
     "ee84e399264d4b9faf29906a8b731f7b": {
      "model_module": "@jupyter-widgets/base",
      "model_module_version": "2.0.0",
      "model_name": "LayoutModel",
      "state": {}
     },
     "ef7b060f19564c9cb60057c6c48c569c": {
      "model_module": "@jupyter-widgets/controls",
      "model_module_version": "2.0.0",
      "model_name": "HTMLStyleModel",
      "state": {
       "description_width": "",
       "font_size": null,
       "text_color": null
      }
     },
     "f24d00f36d4e4903bbb52e9e0bf55925": {
      "model_module": "@jupyter-widgets/controls",
      "model_module_version": "2.0.0",
      "model_name": "HTMLModel",
      "state": {
       "layout": "IPY_MODEL_7e50c528a8864370af5e74e72d1c7718",
       "style": "IPY_MODEL_61b2f5dc4445496f8a8b73352ec3f945",
       "value": " 3.73k/3.73k [00:00&lt;00:00, 231kB/s]"
      }
     },
     "f54aa8a0cf5f42f191f9390213ee46c9": {
      "model_module": "@jupyter-widgets/controls",
      "model_module_version": "2.0.0",
      "model_name": "HBoxModel",
      "state": {
       "children": [
        "IPY_MODEL_75ef20f9a4fb4c80aad7603470e39eb7",
        "IPY_MODEL_3eb6d7d551da412698b3e41b9158838d",
        "IPY_MODEL_818fc7f06ada4598b6f5f525ea1030f0"
       ],
       "layout": "IPY_MODEL_d6ee4edeae29460797650c89ec6c3918"
      }
     },
     "faa2b323133d4abfab52d92facaaf16d": {
      "model_module": "@jupyter-widgets/controls",
      "model_module_version": "2.0.0",
      "model_name": "HTMLModel",
      "state": {
       "layout": "IPY_MODEL_fc1c507e4afe47ee83b5cf16775c4112",
       "style": "IPY_MODEL_86d34b0fb94848c8ba3e73fa584ed6b5",
       "value": "Generating test split: 100%"
      }
     },
     "fc1c507e4afe47ee83b5cf16775c4112": {
      "model_module": "@jupyter-widgets/base",
      "model_module_version": "2.0.0",
      "model_name": "LayoutModel",
      "state": {}
     }
    },
    "version_major": 2,
    "version_minor": 0
   }
  }
 },
 "nbformat": 4,
 "nbformat_minor": 5
}
